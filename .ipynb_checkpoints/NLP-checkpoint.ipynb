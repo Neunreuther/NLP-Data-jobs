{
 "cells": [
  {
   "cell_type": "code",
   "execution_count": 1,
   "id": "51d65b7a",
   "metadata": {},
   "outputs": [
    {
     "name": "stderr",
     "output_type": "stream",
     "text": [
      "/Users/neunreuther/opt/anaconda3/lib/python3.9/site-packages/scipy/__init__.py:146: UserWarning: A NumPy version >=1.16.5 and <1.23.0 is required for this version of SciPy (detected version 1.23.5\n",
      "  warnings.warn(f\"A NumPy version >={np_minversion} and <{np_maxversion}\"\n"
     ]
    }
   ],
   "source": [
    "import pandas as pd\n",
    "import re\n",
    "import nltk\n",
    "from nltk.corpus import stopwords\n",
    "from nltk.tokenize import sent_tokenize\n",
    "from nltk.tokenize import word_tokenize\n",
    "import numpy as np"
   ]
  },
  {
   "cell_type": "code",
   "execution_count": 3,
   "id": "8443567d",
   "metadata": {},
   "outputs": [],
   "source": [
    "data = pd.read_csv(\"Uncleaned_DS_jobs.csv\")"
   ]
  },
  {
   "cell_type": "code",
   "execution_count": 4,
   "id": "deec3f2b",
   "metadata": {},
   "outputs": [],
   "source": [
    "d_list=data[\"Job Description\"].values.tolist()"
   ]
  },
  {
   "cell_type": "code",
   "execution_count": 5,
   "id": "d503ad81",
   "metadata": {},
   "outputs": [],
   "source": [
    "text_testi = d_list[0]"
   ]
  },
  {
   "cell_type": "code",
   "execution_count": 23,
   "id": "d0e67246",
   "metadata": {},
   "outputs": [
    {
     "data": {
      "text/plain": [
       "\"Description\\n\\nThe Senior Data Scientist is responsible for defining, building, and improving statistical models to improve business processes and outcomes in one or more healthcare domains such as Clinical, Enrollment, Claims, and Finance. As part of the broader analytics team, Data Scientist will gather and analyze data to solve and address complex business problems and evaluate scenarios to make predictions on future outcomes and work with the business to communicate and support decision-making. This position requires strong analytical skills and experience in analytic methods including multivariate regressions, hierarchical linear models, regression trees, clustering methods and other complex statistical techniques.\\n\\nDuties & Responsibilities:\\n\\n• Develops advanced statistical models to predict, quantify or forecast various operational and performance metrics in multiple healthcare domains\\n• Investigates, recommends, and initiates acquisition of new data resources from internal and external sources\\n• Works with multiple teams to support data collection, integration, and retention requirements based on business needs\\n• Identifies critical and emerging technologies that will support and extend quantitative analytic capabilities\\n• Collaborates with business subject matter experts to select relevant sources of information\\n• Develops expertise with multiple machine learning algorithms and data science techniques, such as exploratory data analysis and predictive modeling, graph theory, recommender systems, text analytics and validation\\n• Develops expertise with Healthfirst datasets, data repositories, and data movement processes\\n• Assists on projects/requests and may lead specific tasks within the project scope\\n• Prepares and manipulates data for use in development of statistical models\\n• Other duties as assigned\\n\\nMinimum Qualifications:\\n\\n-Bachelor's Degree\\n\\nPreferred Qualifications:\\n\\n- Master’s degree in Computer Science or Statistics\\nFamiliarity with major cloud platforms such as AWS and Azure\\nHealthcare Industry Experience\\n\\nMinimum Qualifications:\\n\\n-Bachelor's Degree\\n\\nPreferred Qualifications:\\n\\n- Master’s degree in Computer Science or Statistics\\nFamiliarity with major cloud platforms such as AWS and Azure\\nHealthcare Industry Experience\\n\\nWE ARE AN EQUAL OPPORTUNITY EMPLOYER. Applicants and employees are considered for positions and are evaluated without regard to mental or physical disability, race, color, religion, gender, national origin, age, genetic information, military or veteran status, sexual orientation, marital status or any other protected Federal, State/Province or Local status unrelated to the performance of the work involved.\\n\\nIf you have a disability under the Americans with Disability Act or a similar law, and want a reasonable accommodation to assist with your job search or application for employment, please contact us by sending an email to careers@Healthfirst.org or calling 212-519-1798 . In your email please include a description of the accommodation you are requesting and a description of the position for which you are applying. Only reasonable accommodation requests related to applying for a position within Healthfirst Management Services will be reviewed at the e-mail address and phone number supplied. Thank you for considering a career with Healthfirst Management Services.\\nEEO Law Poster and Supplement\\n\\n]]>\""
      ]
     },
     "execution_count": 23,
     "metadata": {},
     "output_type": "execute_result"
    }
   ],
   "source": [
    "text_testi"
   ]
  },
  {
   "cell_type": "code",
   "execution_count": 7,
   "id": "7791048e",
   "metadata": {},
   "outputs": [
    {
     "data": {
      "text/plain": [
       "\"description  the senior datascientist is responsible for defining, building, and improving statistical models to improve business processes and outcomes in one or more healthcare domains such as clinical, enrollment, claims, and finance. as part of the broader analytics team, datascientist will gather and analyze data to solve and address complex business problems and evaluate scenarios to make predictions on future outcomes and work with the business to communicate and support decision-making. this position requires strong analytical skills and experience in analytic methods including multivariate regressions, hierarchical linear models, regression trees, clustering methods and other complex statistical techniques.  duties & responsibilities:  • develops advanced statistical models to predict, quantify or forecast various operational and performance metrics in multiple healthcare domains • investigates, recommends, and initiates acquisition of new data resources from internal and external sources • works with multiple teams to support data collection, integration, and retention requirements based on business needs • identifies critical and emerging technologies that will support and extend quantitative analytic capabilities • collaborates with business subject matter experts to select relevant sources of information • develops expertise with multiple machine learning algorithms and data science techniques, such as exploratory data analysis and predictive modeling, graph theory, recommender systems, text analytics and validation • develops expertise with healthfirst datasets, data repositories, and data movement processes • assists on projects/requests and may lead specific tasks within the project scope • prepares and manipulates data for use in development of statistical models • other duties as assigned  minimum qualifications:  -bachelor's degree  preferred qualifications:  - master’s degree in computer science or statistics familiarity with major cloud platforms such as aws and azure healthcare industry experience  minimum qualifications:  -bachelor's degree  preferred qualifications:  - master’s degree in computer science or statistics familiarity with major cloud platforms such as aws and azure healthcare industry experience  we are an equal opportunity employer. applicants and employees are considered for positions and are evaluated without regard to mental or physical disability, race, color, religion, gender, national origin, age, genetic information, military or veteran status, sexual orientation, marital status or any other protected federal, state/province or local status unrelated to the performance of the work involved.  if you have a disability under the americans with disability act or a similar law, and want a reasonable accommodation to assist with your job search or application for employment, please contact us by sending an email to careers@healthfirst.org or calling 212-519-1798 . in your email please include a description of the accommodation you are requesting and a description of the position for which you are applying. only reasonable accommodation requests related to applying for a position within healthfirst management services will be reviewed at the e-mail address and phone number supplied. thank you for considering a career with healthfirst management services. eeo law poster and supplement  ]]>\""
      ]
     },
     "execution_count": 7,
     "metadata": {},
     "output_type": "execute_result"
    }
   ],
   "source": [
    "text = text_testi.lower().replace(\"\\n\",\" \").replace(\"data scientist\",\"datascientist\")\n",
    "text\n",
    "# On enleve les lignes sautés et en mets les termes composés ensemble faudrait faire pareil pour analyste"
   ]
  },
  {
   "cell_type": "code",
   "execution_count": 8,
   "id": "496fba45",
   "metadata": {},
   "outputs": [
    {
     "name": "stderr",
     "output_type": "stream",
     "text": [
      "[nltk_data] Downloading package punkt to\n",
      "[nltk_data]     /Users/neunreuther/nltk_data...\n",
      "[nltk_data]   Package punkt is already up-to-date!\n"
     ]
    },
    {
     "data": {
      "text/plain": [
       "True"
      ]
     },
     "execution_count": 8,
     "metadata": {},
     "output_type": "execute_result"
    }
   ],
   "source": [
    "nltk.download('punkt')"
   ]
  },
  {
   "cell_type": "markdown",
   "id": "078ba14f",
   "metadata": {},
   "source": [
    "### L'idée du projet  : trier les offres intéressantes et celle qui ne le sont pas\n",
    "\n",
    "Sortir les \"compétences\" pour chaque offre, faire une tierlist"
   ]
  },
  {
   "cell_type": "code",
   "execution_count": 9,
   "id": "98578ab5",
   "metadata": {},
   "outputs": [
    {
     "name": "stdout",
     "output_type": "stream",
     "text": [
      "['description  the senior datascientist is responsible for defining, building, and improving statistical models to improve business processes and outcomes in one or more healthcare domains such as clinical, enrollment, claims, and finance.', 'as part of the broader analytics team, datascientist will gather and analyze data to solve and address complex business problems and evaluate scenarios to make predictions on future outcomes and work with the business to communicate and support decision-making.', 'this position requires strong analytical skills and experience in analytic methods including multivariate regressions, hierarchical linear models, regression trees, clustering methods and other complex statistical techniques.', \"duties & responsibilities:  • develops advanced statistical models to predict, quantify or forecast various operational and performance metrics in multiple healthcare domains • investigates, recommends, and initiates acquisition of new data resources from internal and external sources • works with multiple teams to support data collection, integration, and retention requirements based on business needs • identifies critical and emerging technologies that will support and extend quantitative analytic capabilities • collaborates with business subject matter experts to select relevant sources of information • develops expertise with multiple machine learning algorithms and data science techniques, such as exploratory data analysis and predictive modeling, graph theory, recommender systems, text analytics and validation • develops expertise with healthfirst datasets, data repositories, and data movement processes • assists on projects/requests and may lead specific tasks within the project scope • prepares and manipulates data for use in development of statistical models • other duties as assigned  minimum qualifications:  -bachelor's degree  preferred qualifications:  - master’s degree in computer science or statistics familiarity with major cloud platforms such as aws and azure healthcare industry experience  minimum qualifications:  -bachelor's degree  preferred qualifications:  - master’s degree in computer science or statistics familiarity with major cloud platforms such as aws and azure healthcare industry experience  we are an equal opportunity employer.\", 'applicants and employees are considered for positions and are evaluated without regard to mental or physical disability, race, color, religion, gender, national origin, age, genetic information, military or veteran status, sexual orientation, marital status or any other protected federal, state/province or local status unrelated to the performance of the work involved.', 'if you have a disability under the americans with disability act or a similar law, and want a reasonable accommodation to assist with your job search or application for employment, please contact us by sending an email to careers@healthfirst.org or calling 212-519-1798 .', 'in your email please include a description of the accommodation you are requesting and a description of the position for which you are applying.', 'only reasonable accommodation requests related to applying for a position within healthfirst management services will be reviewed at the e-mail address and phone number supplied.', 'thank you for considering a career with healthfirst management services.', 'eeo law poster and supplement  ]]>']\n"
     ]
    }
   ],
   "source": [
    "sentences = sent_tokenize(text)\n",
    "print(sentences)\n",
    "\n",
    "#Transformer le text en liste de phrase"
   ]
  },
  {
   "cell_type": "code",
   "execution_count": 10,
   "id": "ae625564",
   "metadata": {},
   "outputs": [
    {
     "name": "stdout",
     "output_type": "stream",
     "text": [
      "['as', 'part', 'of', 'the', 'broader', 'analytics', 'team', ',', 'datascientist', 'will', 'gather', 'and', 'analyze', 'data', 'to', 'solve', 'and', 'address', 'complex', 'business', 'problems', 'and', 'evaluate', 'scenarios', 'to', 'make', 'predictions', 'on', 'future', 'outcomes', 'and', 'work', 'with', 'the', 'business', 'to', 'communicate', 'and', 'support', 'decision-making', '.']\n",
      "{'linear', 'under', 'e-mail', 'enrollment', 'regression', 'subject', 'origin', 'status', 'religion', 'improving', 'we', 'cloud', 'one', 'job', 'contact', 'is', 'employment', 'other', ',', 'datasets', '&', 'age', 'scope', 'responsibilities', 'use', '•', 'us', 'mental', 'develops', 'communicate', 'law', 'or', 'repositories', 'project', 'healthfirst.org', 'reviewed', '.', 'state/province', 'local', 'future', 'recommender', 'act', 'employees', 'reasonable', 'based', 'solve', 'acquisition', 'of', 'industry', '’', 'disability', 'include', 'with', 'clustering', 'minimum', 'collection', 'federal', 'may', 'careers', 'make', 'are', 'email', 'internal', 'algorithms', 'analyze', 'statistics', 'position', 'theory', '@', 'prepares', 'preferred', 'performance', 'application', 'only', 'which', 'by', 'poster', 'hierarchical', 'strong', 'search', 'advanced', 'services', 'experience', 'including', 'regressions', 'sending', 'such', 'within', 'models', 'business', 'initiates', 'more', 'in', 'needs', 'part', 'identifies', 'quantitative', 'improve', 'processes', 'techniques', ':', 'predictions', 'operational', 'assists', 'information', '-', 'science', 'an', 'requirements', 'color', 'experts', 'number', 'description', 'as', ']', 'support', 'validation', 'various', 's', 'career', 'new', 'integration', 'applying', 'considered', 'collaborates', 'retention', 'critical', 'learning', 'this', 'employer', 'requesting', 'qualifications', 'calling', 'manipulates', 'phone', 'want', 'a', 'from', 'complex', 'predictive', 'predict', 'orientation', 'analysis', 'that', 'considering', 'team', 'resources', 'master', 'analytic', 'physical', 'investigates', 'degree', 'technologies', 'text', 'positions', 'race', 'exploratory', 'forecast', 'any', 'address', 'if', '>', 'senior', 'external', 'americans', 'matter', 'expertise', 'gather', 'skills', '-bachelor', 'without', 'national', 'similar', 'please', 'extend', 'decision-making', 'azure', 'aws', 'related', 'veteran', 'select', 'data', 'tasks', 'accommodation', 'graph', 'domains', 'management', 'claims', 'healthfirst', 'healthcare', 'at', 'responsible', 'to', 'trees', 'teams', 'problems', 'opportunity', 'work', 'building', 'relevant', 'assigned', 'regard', 'your', 'supplied', 'evaluate', 'recommends', 'involved', 'gender', 'and', 'evaluated', 'projects/requests', 'development', '212-519-1798', 'genetic', 'sexual', 'statistical', 'clinical', 'outcomes', 'scenarios', 'defining', 'requests', 'assist', 'machine', 'works', 'for', 'analytics', 'lead', 'have', 'multiple', 'systems', 'datascientist', 'metrics', 'thank', 'methods', 'major', 'duties', 'platforms', 'specific', 'modeling', 'familiarity', 'marital', 'capabilities', 'supplement', 'the', 'multivariate', 'quantify', 'applicants', \"'s\", 'you', 'emerging', 'computer', 'unrelated', 'sources', 'eeo', 'will', 'be', 'equal', 'analytical', 'requires', 'military', 'on', 'movement', 'broader', 'finance', 'protected'}\n"
     ]
    }
   ],
   "source": [
    "tokenized_sent = word_tokenize(sentences[1])\n",
    "unique_tokens = set(word_tokenize(text))\n",
    "\n",
    "print(tokenized_sent)\n",
    "print(unique_tokens)"
   ]
  },
  {
   "cell_type": "code",
   "execution_count": 104,
   "id": "c544e4d1",
   "metadata": {},
   "outputs": [
    {
     "data": {
      "text/plain": [
       "['description',\n",
       " 'senior',\n",
       " 'datascientist',\n",
       " 'responsible',\n",
       " 'defining',\n",
       " 'building',\n",
       " 'improving',\n",
       " 'statistical',\n",
       " 'models',\n",
       " 'improve',\n",
       " 'business',\n",
       " 'processes',\n",
       " 'outcomes',\n",
       " 'one',\n",
       " 'healthcare',\n",
       " 'domains',\n",
       " 'clinical',\n",
       " 'enrollment',\n",
       " 'claims',\n",
       " 'finance',\n",
       " 'part',\n",
       " 'broader',\n",
       " 'analytics',\n",
       " 'team',\n",
       " 'datascientist',\n",
       " 'gather',\n",
       " 'analyze',\n",
       " 'data',\n",
       " 'solve',\n",
       " 'address',\n",
       " 'complex',\n",
       " 'business',\n",
       " 'problems',\n",
       " 'evaluate',\n",
       " 'scenarios',\n",
       " 'make',\n",
       " 'predictions',\n",
       " 'future',\n",
       " 'outcomes',\n",
       " 'work',\n",
       " 'business',\n",
       " 'communicate',\n",
       " 'support',\n",
       " 'position',\n",
       " 'requires',\n",
       " 'strong',\n",
       " 'analytical',\n",
       " 'skills',\n",
       " 'experience',\n",
       " 'analytic',\n",
       " 'methods',\n",
       " 'including',\n",
       " 'multivariate',\n",
       " 'regressions',\n",
       " 'hierarchical',\n",
       " 'linear',\n",
       " 'models',\n",
       " 'regression',\n",
       " 'trees',\n",
       " 'clustering',\n",
       " 'methods',\n",
       " 'complex',\n",
       " 'statistical',\n",
       " 'techniques',\n",
       " 'duties',\n",
       " 'responsibilities',\n",
       " 'develops',\n",
       " 'advanced',\n",
       " 'statistical',\n",
       " 'models',\n",
       " 'predict',\n",
       " 'quantify',\n",
       " 'forecast',\n",
       " 'various',\n",
       " 'operational',\n",
       " 'performance',\n",
       " 'metrics',\n",
       " 'multiple',\n",
       " 'healthcare',\n",
       " 'domains',\n",
       " 'investigates',\n",
       " 'recommends',\n",
       " 'initiates',\n",
       " 'acquisition',\n",
       " 'new',\n",
       " 'data',\n",
       " 'resources',\n",
       " 'internal',\n",
       " 'external',\n",
       " 'sources',\n",
       " 'works',\n",
       " 'multiple',\n",
       " 'teams',\n",
       " 'support',\n",
       " 'data',\n",
       " 'collection',\n",
       " 'integration',\n",
       " 'retention',\n",
       " 'requirements',\n",
       " 'based',\n",
       " 'business',\n",
       " 'needs',\n",
       " 'identifies',\n",
       " 'critical',\n",
       " 'emerging',\n",
       " 'technologies',\n",
       " 'support',\n",
       " 'extend',\n",
       " 'quantitative',\n",
       " 'analytic',\n",
       " 'capabilities',\n",
       " 'collaborates',\n",
       " 'business',\n",
       " 'subject',\n",
       " 'matter',\n",
       " 'experts',\n",
       " 'select',\n",
       " 'relevant',\n",
       " 'sources',\n",
       " 'information',\n",
       " 'develops',\n",
       " 'expertise',\n",
       " 'multiple',\n",
       " 'machine',\n",
       " 'learning',\n",
       " 'algorithms',\n",
       " 'data',\n",
       " 'science',\n",
       " 'techniques',\n",
       " 'exploratory',\n",
       " 'data',\n",
       " 'analysis',\n",
       " 'predictive',\n",
       " 'modeling',\n",
       " 'graph',\n",
       " 'theory',\n",
       " 'recommender',\n",
       " 'systems',\n",
       " 'text',\n",
       " 'analytics',\n",
       " 'validation',\n",
       " 'develops',\n",
       " 'expertise',\n",
       " 'healthfirst',\n",
       " 'datasets',\n",
       " 'data',\n",
       " 'repositories',\n",
       " 'data',\n",
       " 'movement',\n",
       " 'processes',\n",
       " 'assists',\n",
       " 'may',\n",
       " 'lead',\n",
       " 'specific',\n",
       " 'tasks',\n",
       " 'within',\n",
       " 'project',\n",
       " 'scope',\n",
       " 'prepares',\n",
       " 'manipulates',\n",
       " 'data',\n",
       " 'use',\n",
       " 'development',\n",
       " 'statistical',\n",
       " 'models',\n",
       " 'duties',\n",
       " 'assigned',\n",
       " 'minimum',\n",
       " 'qualifications',\n",
       " 'degree',\n",
       " 'preferred',\n",
       " 'qualifications',\n",
       " 'master',\n",
       " 'degree',\n",
       " 'computer',\n",
       " 'science',\n",
       " 'statistics',\n",
       " 'familiarity',\n",
       " 'major',\n",
       " 'cloud',\n",
       " 'platforms',\n",
       " 'aws',\n",
       " 'azure',\n",
       " 'healthcare',\n",
       " 'industry',\n",
       " 'experience',\n",
       " 'minimum',\n",
       " 'qualifications',\n",
       " 'degree',\n",
       " 'preferred',\n",
       " 'qualifications',\n",
       " 'master',\n",
       " 'degree',\n",
       " 'computer',\n",
       " 'science',\n",
       " 'statistics',\n",
       " 'familiarity',\n",
       " 'major',\n",
       " 'cloud',\n",
       " 'platforms',\n",
       " 'aws',\n",
       " 'azure',\n",
       " 'healthcare',\n",
       " 'industry',\n",
       " 'experience',\n",
       " 'equal',\n",
       " 'opportunity',\n",
       " 'employer',\n",
       " 'applicants',\n",
       " 'employees',\n",
       " 'considered',\n",
       " 'positions',\n",
       " 'evaluated',\n",
       " 'without',\n",
       " 'regard',\n",
       " 'mental',\n",
       " 'physical',\n",
       " 'disability',\n",
       " 'race',\n",
       " 'color',\n",
       " 'religion',\n",
       " 'gender',\n",
       " 'national',\n",
       " 'origin',\n",
       " 'age',\n",
       " 'genetic',\n",
       " 'information',\n",
       " 'military',\n",
       " 'veteran',\n",
       " 'status',\n",
       " 'sexual',\n",
       " 'orientation',\n",
       " 'marital',\n",
       " 'status',\n",
       " 'protected',\n",
       " 'federal',\n",
       " 'local',\n",
       " 'status',\n",
       " 'unrelated',\n",
       " 'performance',\n",
       " 'work',\n",
       " 'involved',\n",
       " 'disability',\n",
       " 'americans',\n",
       " 'disability',\n",
       " 'act',\n",
       " 'similar',\n",
       " 'law',\n",
       " 'want',\n",
       " 'reasonable',\n",
       " 'accommodation',\n",
       " 'assist',\n",
       " 'job',\n",
       " 'search',\n",
       " 'application',\n",
       " 'employment',\n",
       " 'please',\n",
       " 'contact',\n",
       " 'us',\n",
       " 'sending',\n",
       " 'email',\n",
       " 'careers',\n",
       " 'calling',\n",
       " 'email',\n",
       " 'please',\n",
       " 'include',\n",
       " 'description',\n",
       " 'accommodation',\n",
       " 'requesting',\n",
       " 'description',\n",
       " 'position',\n",
       " 'applying',\n",
       " 'reasonable',\n",
       " 'accommodation',\n",
       " 'requests',\n",
       " 'related',\n",
       " 'applying',\n",
       " 'position',\n",
       " 'within',\n",
       " 'healthfirst',\n",
       " 'management',\n",
       " 'services',\n",
       " 'reviewed',\n",
       " 'address',\n",
       " 'phone',\n",
       " 'number',\n",
       " 'supplied',\n",
       " 'thank',\n",
       " 'considering',\n",
       " 'career',\n",
       " 'healthfirst',\n",
       " 'management',\n",
       " 'services',\n",
       " 'eeo',\n",
       " 'law',\n",
       " 'poster',\n",
       " 'supplement']"
      ]
     },
     "execution_count": 104,
     "metadata": {},
     "output_type": "execute_result"
    }
   ],
   "source": [
    "stop_words = set(stopwords.words('english')) \n",
    "[word.lower() for word in word_tokenize(text) if word not in stop_words and word.isalnum()]\n",
    "\n",
    "#isalnum pour tej les chiffres"
   ]
  },
  {
   "cell_type": "code",
   "execution_count": 105,
   "id": "6136bb45",
   "metadata": {},
   "outputs": [],
   "source": [
    "import itertools"
   ]
  },
  {
   "cell_type": "code",
   "execution_count": null,
   "id": "f02951b9",
   "metadata": {},
   "outputs": [],
   "source": []
  },
  {
   "cell_type": "code",
   "execution_count": null,
   "id": "b6e4b0d9",
   "metadata": {},
   "outputs": [],
   "source": []
  },
  {
   "cell_type": "code",
   "execution_count": null,
   "id": "61f61cd6",
   "metadata": {},
   "outputs": [],
   "source": []
  },
  {
   "cell_type": "code",
   "execution_count": null,
   "id": "b1473a75",
   "metadata": {},
   "outputs": [],
   "source": []
  },
  {
   "cell_type": "code",
   "execution_count": null,
   "id": "f19e4097",
   "metadata": {},
   "outputs": [],
   "source": []
  }
 ],
 "metadata": {
  "kernelspec": {
   "display_name": "Python 3 (ipykernel)",
   "language": "python",
   "name": "python3"
  },
  "language_info": {
   "codemirror_mode": {
    "name": "ipython",
    "version": 3
   },
   "file_extension": ".py",
   "mimetype": "text/x-python",
   "name": "python",
   "nbconvert_exporter": "python",
   "pygments_lexer": "ipython3",
   "version": "3.9.7"
  }
 },
 "nbformat": 4,
 "nbformat_minor": 5
}
