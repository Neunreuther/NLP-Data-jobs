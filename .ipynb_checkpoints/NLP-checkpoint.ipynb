{
 "cells": [
  {
   "cell_type": "code",
   "execution_count": 1,
   "id": "51d65b7a",
   "metadata": {},
   "outputs": [],
   "source": [
    "import pandas as pd\n",
    "import re\n",
    "import numpy as np"
   ]
  },
  {
   "cell_type": "code",
   "execution_count": 2,
   "id": "3033d811",
   "metadata": {},
   "outputs": [],
   "source": [
    "data = pd.read_csv(\"Uncleaned_DS_jobs.csv\")"
   ]
  },
  {
   "cell_type": "markdown",
   "id": "891fdb90",
   "metadata": {},
   "source": [
    "# Main Idea of the project :\n",
    "\n",
    "I used a Database that i found on Kaggle that with more than 650 data sciences jobs in the USA. We have the localisation, the description, the salary and so on.\n",
    "\n",
    "### 1) Look at the hard/soft skills mentioned in the Job Description\n",
    "I ask myself which skills are often used. I will try to improve my Github profile on the results.\n",
    "\n",
    "### 2) Clustering\n",
    "Faire une tierlist\n",
    "\n",
    "### 3) Résumé automatiquement des descriptions d'emplois.\n",
    "\n",
    "à voir si je le fais"
   ]
  },
  {
   "cell_type": "markdown",
   "id": "738d496e",
   "metadata": {},
   "source": [
    "## First step : Data preparation"
   ]
  },
  {
   "cell_type": "code",
   "execution_count": 45,
   "id": "03912368",
   "metadata": {},
   "outputs": [
    {
     "data": {
      "text/plain": [
       "Index(['index', 'Job Title', 'Salary Estimate', 'Job Description', 'Rating',\n",
       "       'Company Name', 'Location', 'Headquarters', 'Size', 'Founded',\n",
       "       'Type of ownership', 'Industry', 'Sector', 'Revenue', 'Competitors'],\n",
       "      dtype='object')"
      ]
     },
     "execution_count": 45,
     "metadata": {},
     "output_type": "execute_result"
    }
   ],
   "source": [
    "data.columns"
   ]
  },
  {
   "cell_type": "code",
   "execution_count": 47,
   "id": "cd014336",
   "metadata": {},
   "outputs": [
    {
     "data": {
      "text/plain": [
       "672"
      ]
     },
     "execution_count": 47,
     "metadata": {},
     "output_type": "execute_result"
    }
   ],
   "source": [
    "len(data)"
   ]
  },
  {
   "cell_type": "code",
   "execution_count": 3,
   "id": "d1082b1d",
   "metadata": {},
   "outputs": [],
   "source": [
    "data = data.drop(labels=[\"Industry\",\"Job Title\",\"Rating\",\"Headquarters\",\"Size\",\"Founded\",\"Type of ownership\",\"Revenue\",\"Competitors\",\"Sector\"],axis=\"columns\")"
   ]
  },
  {
   "cell_type": "code",
   "execution_count": 49,
   "id": "525ff32b",
   "metadata": {},
   "outputs": [
    {
     "data": {
      "text/plain": [
       "Index(['index', 'Salary Estimate', 'Job Description', 'Company Name',\n",
       "       'Location'],\n",
       "      dtype='object')"
      ]
     },
     "execution_count": 49,
     "metadata": {},
     "output_type": "execute_result"
    }
   ],
   "source": [
    "data.columns"
   ]
  },
  {
   "cell_type": "markdown",
   "id": "f7a7e13f",
   "metadata": {},
   "source": [
    "I decided to keep the description, the salary and the name of the company"
   ]
  },
  {
   "cell_type": "code",
   "execution_count": 50,
   "id": "b0fe5274",
   "metadata": {},
   "outputs": [
    {
     "name": "stdout",
     "output_type": "stream",
     "text": [
      "index              0\n",
      "Salary Estimate    0\n",
      "Job Description    0\n",
      "Company Name       0\n",
      "Location           0\n",
      "dtype: int64\n"
     ]
    }
   ],
   "source": [
    "print(data.isna().sum())"
   ]
  },
  {
   "cell_type": "code",
   "execution_count": 101,
   "id": "c6314114",
   "metadata": {},
   "outputs": [],
   "source": [
    "list_test = data[\"Job Description\"].values.tolist()"
   ]
  },
  {
   "cell_type": "code",
   "execution_count": 102,
   "id": "63799a40",
   "metadata": {},
   "outputs": [
    {
     "data": {
      "text/plain": [
       "\"Secure our Nation, Ignite your Future\\n\\nJoin the top Information Technology and Analytic professionals in the industry to make invaluable contributions to our national security on a daily basis. In this innovative, self-contained, Big Data environment, the ManTech team is responsible for everything from infrastructure, to application development, to data science, to advanced analytics and beyond. The team is diverse, the questions are thought-provoking, and the opportunities for growth and advancement are numerous\\n\\nThe successful candidate will possess a diverse range of data-focused skills and experience, both technical and analytical. They will have a strong desire and capability for problem solving, data analysis and troubleshooting, analytical thinking, and experimentation.\\n\\nDuties, Tasks & Responsibilities\\nWorking with large, complex, and disparate data sets\\nDesigning and implementing innovative ways to analyze and exploit the Sponsors data holdings\\nResearching and reporting on a wide variety of Sponsor inquiries\\nRaising proactive inquiries to the Sponsor based on observations and proposed data analysis/exploitation\\nSolving difficult, non-routine problems by applying advanced analytical methodologies, and improving analytic methodologies\\nDeveloping custom searches\\nCommunicating and coordinating with internal and external partners as needed\\nRequired Experience, Skills, & Technologies\\n\\nThorough knowledge of appropriate analytic tools and methodologies in one or more of the following:\\nApplied mathematics (e.g. probability and statistics, formal modeling, computational social sciences)\\nComputer programming (e.g. programming languages, math/statistics packages, computer science, machine learning, scientific computing)\\nAbility to code or script in one or more general programming language\\nExperience with and theoretical understanding of algorithms for classification, regression, clustering, and anomaly detection\\nKnowledge of relational databases, including SQL and large-scale distributed systems (e.g. Hadoop)\\nExpertise with statistical data analysis (e.g. linear models, multivariate analysis, stochastic models, sampling methods)\\nDemonstrated effectiveness in collecting information and accurately representing/visualizing it to non-technical third parties\\nTS/SCI with Polygraph\\nBachelor of Science or equivalent and 12-15 years related experience, but will consider all levels of experience.\\nDesired Experience, Skills & Technologies\\nPrevious investigative experience using a combination of technical and analytic skills\\n#LI-DU1\\n\\nManTech International Corporation, as well as its subsidiaries proactively fulfills its role as an equal opportunity employer. We do not discriminate against any employee or applicant for employment because of race, color, sex, religion, age, sexual orientation, gender identity and expression, national origin, marital status, physical or mental disability, status as a Disabled Veteran, Recently Separated Veteran, Active Duty Wartime or Campaign Badge Veteran, Armed Forces Services Medal, or any other characteristic protected by law.\\n\\nIf you require a reasonable accommodation to apply for a position with ManTech through its online applicant system, please contact ManTech's Corporate EEO Department at (703) 218-6000. ManTech is an affirmative action/equal opportunity employer - minorities, females, disabled and protected veterans are urged to apply. ManTech's utilization of any external recruitment or job placement agency is predicated upon its full compliance with our equal opportunity/affirmative action policies. ManTech does not accept resumes from unsolicited recruiting firms. We pay no fees for unsolicited services.\\n\\nIf you are a qualified individual with a disability or a disabled veteran, you have the right to request an accommodation if you are unable or limited in your ability to use or access http://www.mantech.com/careers/Pages/careers.aspx as a result of your disability. To request an accommodation please click careers@mantech.com and provide your name and contact information.\""
      ]
     },
     "execution_count": 102,
     "metadata": {},
     "output_type": "execute_result"
    }
   ],
   "source": [
    "list_test[1]\n",
    "\n",
    "#lets see an example of a description"
   ]
  },
  {
   "cell_type": "markdown",
   "id": "a77f7398",
   "metadata": {},
   "source": [
    "### So we need to : \n",
    "\n",
    "- We have to replace the \"\\n\" as you can see there are many of them\n",
    "- Lower all the letters\n",
    "- Kick out all non alphatic caracter like .,;:^ etc\n",
    "\n",
    "I also out that the words like data science need to be written as datascience so when we tokenize the words we dont compute data and science but data science (same for other words from the jargon)"
   ]
  },
  {
   "cell_type": "code",
   "execution_count": 4,
   "id": "00f78e66",
   "metadata": {},
   "outputs": [],
   "source": [
    "data[\"Job Description\"] = data[\"Job Description\"].str.replace(\"\\n\",\" \")"
   ]
  },
  {
   "cell_type": "code",
   "execution_count": 5,
   "id": "d294df82",
   "metadata": {},
   "outputs": [],
   "source": [
    "data[\"Job Description\"] = data[\"Job Description\"].str.lower()"
   ]
  },
  {
   "cell_type": "markdown",
   "id": "a1a4044b",
   "metadata": {},
   "source": [
    "Here I started to combine some words (I took the most important one)"
   ]
  },
  {
   "cell_type": "code",
   "execution_count": 6,
   "id": "787acad1",
   "metadata": {},
   "outputs": [],
   "source": [
    "data[\"Job Description\"] = data[\"Job Description\"].str.replace(\"data scientist\",\"datascientist\")"
   ]
  },
  {
   "cell_type": "code",
   "execution_count": null,
   "id": "cbf1d8c6",
   "metadata": {},
   "outputs": [],
   "source": [
    "data[\"Job Description\"] = data[\"Job Description\"].str.replace(\"amazon web services\",\"aws\") "
   ]
  },
  {
   "cell_type": "code",
   "execution_count": null,
   "id": "b76f1ed6",
   "metadata": {},
   "outputs": [],
   "source": [
    "data[\"Job Description\"] = data[\"Job Description\"].str.replace(\"structured query language\",\"sql\")"
   ]
  },
  {
   "cell_type": "code",
   "execution_count": null,
   "id": "5d169992",
   "metadata": {},
   "outputs": [],
   "source": [
    "data[\"Job Description\"] = data[\"Job Description\"].str.replace(\"sequel\",\"sql\")"
   ]
  },
  {
   "cell_type": "code",
   "execution_count": null,
   "id": "cb7b759c",
   "metadata": {},
   "outputs": [],
   "source": [
    "data[\"Job Description\"] = data[\"Job Description\"].str.replace(\"google cloud\",\"gcp\")"
   ]
  },
  {
   "cell_type": "code",
   "execution_count": null,
   "id": "12c9dc2e",
   "metadata": {},
   "outputs": [],
   "source": [
    "data[\"Job Description\"] = data[\"Job Description\"].str.replace(\"google cloud platform\",\"gcp\")"
   ]
  },
  {
   "cell_type": "code",
   "execution_count": 7,
   "id": "8c5cfede",
   "metadata": {},
   "outputs": [],
   "source": [
    "data[\"Job Description\"] = data[\"Job Description\"].str.replace(\"data science\",\"datascience\")"
   ]
  },
  {
   "cell_type": "code",
   "execution_count": 8,
   "id": "c3eb1777",
   "metadata": {},
   "outputs": [],
   "source": [
    "data[\"Job Description\"] = data[\"Job Description\"].str.replace(\"computer science\",\"computerscience\")"
   ]
  },
  {
   "cell_type": "code",
   "execution_count": 9,
   "id": "665cde7e",
   "metadata": {},
   "outputs": [],
   "source": [
    "data[\"Job Description\"] = data[\"Job Description\"].str.replace(\"statistical models\",\"statisticalmodels\")"
   ]
  },
  {
   "cell_type": "code",
   "execution_count": 10,
   "id": "dbe7e85b",
   "metadata": {},
   "outputs": [],
   "source": [
    "data[\"Job Description\"] = data[\"Job Description\"].str.replace(\"machine learning\",\"machinelearning\")"
   ]
  },
  {
   "cell_type": "code",
   "execution_count": 11,
   "id": "169f1fb6",
   "metadata": {},
   "outputs": [],
   "source": [
    "data[\"Job Description\"] = data[\"Job Description\"].str.replace(\"data mining\",\"datamining\")"
   ]
  },
  {
   "cell_type": "code",
   "execution_count": 12,
   "id": "f24e838a",
   "metadata": {},
   "outputs": [],
   "source": [
    "data[\"Job Description\"] = data[\"Job Description\"].str.replace(\"data analysis\",\"dataanalysis\")"
   ]
  },
  {
   "cell_type": "code",
   "execution_count": 13,
   "id": "72e6b7b1",
   "metadata": {},
   "outputs": [],
   "source": [
    "data[\"Job Description\"] = data[\"Job Description\"].str.replace(\"cloud computing\",\"cloudcomputing\")"
   ]
  },
  {
   "cell_type": "code",
   "execution_count": 14,
   "id": "1e852120",
   "metadata": {},
   "outputs": [],
   "source": [
    "data[\"Job Description\"] = data[\"Job Description\"].str.replace(\"  \",\" \")\n",
    "\n",
    "# I fixed the double space that i created with the /n replacement"
   ]
  },
  {
   "cell_type": "code",
   "execution_count": 15,
   "id": "13f0c9b2",
   "metadata": {},
   "outputs": [
    {
     "name": "stderr",
     "output_type": "stream",
     "text": [
      "/var/folders/30/z0zpp57d7xx3_p2n7w7r0vrw0000gn/T/ipykernel_8872/2176103475.py:1: FutureWarning: The default value of regex will change from True to False in a future version.\n",
      "  data[\"Job Description\"] = data[\"Job Description\"].str.replace(\"[^a-zA-Z0-9]\", \" \")\n"
     ]
    }
   ],
   "source": [
    "data[\"Job Description\"] = data[\"Job Description\"].str.replace(\"[^a-zA-Z0-9]\", \" \")\n",
    "\n",
    "# with regex i only take all letters from a to z and all numbers from 0 to 9 and not the rest"
   ]
  },
  {
   "cell_type": "code",
   "execution_count": 16,
   "id": "f4e4f2ae",
   "metadata": {},
   "outputs": [],
   "source": [
    "data[\"Job Description\"] = data[\"Job Description\"].str.replace(\"  \",\" \")\n",
    "\n",
    "# we fix the space that we created just recreate haha"
   ]
  },
  {
   "cell_type": "code",
   "execution_count": 17,
   "id": "400bb498",
   "metadata": {},
   "outputs": [
    {
     "data": {
      "text/plain": [
       "'secure our nation ignite your future join the top information technology and analytic professionals in the industry to make invaluable contributions to our national security on a daily basis in this innovative self contained big data environment the mantech team is responsible for everything from infrastructure to application development to datascience to advanced analytics and beyond the team is diverse the questions are thought provoking and the opportunities for growth and advancement are numerous the successful candidate will possess a diverse range of data focused skills and experience both technical and analytical they will have a strong desire and capability for problem solving dataanalysis and troubleshooting analytical thinking and experimentation duties tasks  responsibilities working with large complex and disparate data sets designing and implementing innovative ways to analyze and exploit the sponsors data holdings researching and reporting on a wide variety of sponsor inquiries raising proactive inquiries to the sponsor based on observations and proposed dataanalysis exploitation solving difficult non routine problems by applying advanced analytical methodologies and improving analytic methodologies developing custom searches communicating and coordinating with internal and external partners as needed required experience skills  technologies thorough knowledge of appropriate analytic tools and methodologies in one or more of the following applied mathematics e g probability and statistics formal modeling computational social sciences computer programming e g programming languages math statistics packages computerscience machinelearning scientific computing ability to code or script in one or more general programming language experience with and theoretical understanding of algorithms for classification regression clustering and anomaly detection knowledge of relational databases including sql and large scale distributed systems e g hadoop expertise with statistical dataanalysis e g linear models multivariate analysis stochastic models sampling methods demonstrated effectiveness in collecting information and accurately representing visualizing it to non technical third parties ts sci with polygraph bachelor of science or equivalent and 12 15 years related experience but will consider all levels of experience desired experience skills  technologies previous investigative experience using a combination of technical and analytic skills li du1 mantech international corporation as well as its subsidiaries proactively fulfills its role as an equal opportunity employer we do not discriminate against any employee or applicant for employment because of race color sex religion age sexual orientation gender identity and expression national origin marital status physical or mental disability status as a disabled veteran recently separated veteran active duty wartime or campaign badge veteran armed forces services medal or any other characteristic protected by law if you require a reasonable accommodation to apply for a position with mantech through its online applicant system please contact mantech s corporate eeo department at 703 218 6000 mantech is an affirmative action equal opportunity employer  minorities females disabled and protected veterans are urged to apply mantech s utilization of any external recruitment or job placement agency is predicated upon its full compliance with our equal opportunity affirmative action policies mantech does not accept resumes from unsolicited recruiting firms we pay no fees for unsolicited services if you are a qualified individual with a disability or a disabled veteran you have the right to request an accommodation if you are unable or limited in your ability to use or access http  www mantech com careers pages careers aspx as a result of your disability to request an accommodation please click careers mantech com and provide your name and contact information '"
      ]
     },
     "execution_count": 17,
     "metadata": {},
     "output_type": "execute_result"
    }
   ],
   "source": [
    "list_test2 = data[\"Job Description\"].values.tolist()\n",
    "list_test2[1]"
   ]
  },
  {
   "cell_type": "code",
   "execution_count": 18,
   "id": "b378bff8",
   "metadata": {},
   "outputs": [
    {
     "name": "stderr",
     "output_type": "stream",
     "text": [
      "/Users/neunreuther/opt/anaconda3/lib/python3.9/site-packages/scipy/__init__.py:146: UserWarning: A NumPy version >=1.16.5 and <1.23.0 is required for this version of SciPy (detected version 1.23.5\n",
      "  warnings.warn(f\"A NumPy version >={np_minversion} and <{np_maxversion}\"\n"
     ]
    }
   ],
   "source": [
    "import nltk\n",
    "from nltk.corpus import stopwords\n",
    "from nltk.tokenize import word_tokenize\n",
    "from nltk.probability import FreqDist"
   ]
  },
  {
   "cell_type": "code",
   "execution_count": 19,
   "id": "1239b405",
   "metadata": {},
   "outputs": [],
   "source": [
    "descriptions = data[\"Job Description\"].apply(word_tokenize)"
   ]
  },
  {
   "cell_type": "markdown",
   "id": "6cfd791b",
   "metadata": {},
   "source": [
    "### Lets kick out every useless stopwords :"
   ]
  },
  {
   "cell_type": "code",
   "execution_count": 20,
   "id": "5a255d2d",
   "metadata": {},
   "outputs": [],
   "source": [
    "stop_words = set(stopwords.words(\"english\"))\n",
    "descriptions = descriptions.apply(lambda x: [word for word in x if word not in stop_words])"
   ]
  },
  {
   "cell_type": "markdown",
   "id": "4d502539",
   "metadata": {},
   "source": [
    "### I will put everything in one block to take the most used words and it will be usefull later"
   ]
  },
  {
   "cell_type": "code",
   "execution_count": 22,
   "id": "e3958324",
   "metadata": {},
   "outputs": [],
   "source": [
    "corpus = [word for desc in descriptions for word in desc]"
   ]
  },
  {
   "cell_type": "code",
   "execution_count": 23,
   "id": "80c2bb1d",
   "metadata": {},
   "outputs": [],
   "source": [
    "fdist2 = FreqDist(corpus)\n",
    "\n",
    "common_words = [word for word, freq in fdist2.most_common(1000)]"
   ]
  },
  {
   "cell_type": "code",
   "execution_count": 43,
   "id": "19ce9351",
   "metadata": {},
   "outputs": [
    {
     "data": {
      "text/plain": [
       "['data',\n",
       " 'experience',\n",
       " 'work',\n",
       " 'business',\n",
       " 'team',\n",
       " 'skills',\n",
       " 'machinelearning',\n",
       " 'analytics',\n",
       " 'development',\n",
       " 'ability',\n",
       " 'datascience',\n",
       " 'models',\n",
       " 'years',\n",
       " 'solutions',\n",
       " 'engineering',\n",
       " 'tools',\n",
       " 'knowledge',\n",
       " 'technical',\n",
       " 'analysis',\n",
       " 'company',\n",
       " 'working',\n",
       " 'using',\n",
       " 'systems',\n",
       " 'information',\n",
       " 'support',\n",
       " 'new',\n",
       " 'job',\n",
       " 'datascientist',\n",
       " 'python',\n",
       " 'strong',\n",
       " 'software',\n",
       " 'develop',\n",
       " 'design',\n",
       " 'including',\n",
       " 'research',\n",
       " 'required',\n",
       " 'related',\n",
       " 'statistical',\n",
       " 'opportunity',\n",
       " 'techniques',\n",
       " 'degree',\n",
       " 'us',\n",
       " 'product',\n",
       " 'management',\n",
       " 'technology',\n",
       " 'requirements',\n",
       " 'environment',\n",
       " 'insights',\n",
       " 'advanced',\n",
       " 'position',\n",
       " 'modeling',\n",
       " 'time',\n",
       " 'algorithms',\n",
       " 'statistics',\n",
       " 'use',\n",
       " 'problems',\n",
       " 'projects',\n",
       " 'sql',\n",
       " 'r',\n",
       " 'e',\n",
       " 'based',\n",
       " 'provide',\n",
       " 'build',\n",
       " 'world',\n",
       " 'help',\n",
       " 'large',\n",
       " 'building',\n",
       " 'role',\n",
       " 'computerscience',\n",
       " 'services',\n",
       " 'qualifications',\n",
       " 'must',\n",
       " 'teams',\n",
       " 'analytical',\n",
       " 'field',\n",
       " 'understanding',\n",
       " 'etc',\n",
       " 'complex',\n",
       " 'methods',\n",
       " 'status',\n",
       " 'technologies',\n",
       " 'customer',\n",
       " 'employment',\n",
       " 'products',\n",
       " 'preferred',\n",
       " 'customers',\n",
       " 'well',\n",
       " 'responsibilities',\n",
       " 'communication',\n",
       " 'across',\n",
       " 'intelligence',\n",
       " 'high',\n",
       " 'health',\n",
       " 'developing',\n",
       " 'make',\n",
       " 'g',\n",
       " 'results',\n",
       " 'equal',\n",
       " 'best',\n",
       " 'apply',\n",
       " 'expertise',\n",
       " 'project',\n",
       " 'one',\n",
       " 'security',\n",
       " 'national',\n",
       " 'learning',\n",
       " 'programming',\n",
       " 'industry',\n",
       " 'performance',\n",
       " 'processing',\n",
       " 'people',\n",
       " 'process',\n",
       " 'create',\n",
       " 'quantitative',\n",
       " 'employees',\n",
       " 'looking',\n",
       " 'predictive',\n",
       " 'within',\n",
       " 'quality',\n",
       " 'understand',\n",
       " 'excellent',\n",
       " 'processes',\n",
       " 'big',\n",
       " 'sets',\n",
       " 'disability',\n",
       " 'join',\n",
       " 'deep',\n",
       " 'benefits',\n",
       " 'mission',\n",
       " 'plus',\n",
       " 'like',\n",
       " 'level',\n",
       " 'employer',\n",
       " 'learn',\n",
       " 'applications',\n",
       " 'impact',\n",
       " 'gender',\n",
       " 'sources',\n",
       " 'stakeholders',\n",
       " '3',\n",
       " 'drive',\n",
       " 'platform',\n",
       " 'decision',\n",
       " 'identify',\n",
       " 'key',\n",
       " 'problem',\n",
       " 'internal',\n",
       " 'opportunities',\n",
       " 'analyze',\n",
       " 'clients',\n",
       " 'real',\n",
       " 'description',\n",
       " 'cloud',\n",
       " 'demonstrated',\n",
       " 'multiple',\n",
       " 'able',\n",
       " 'application',\n",
       " 'also',\n",
       " 'driven',\n",
       " 'training',\n",
       " 'dataanalysis',\n",
       " 'include',\n",
       " 'candidate',\n",
       " 'operations',\n",
       " 'highly',\n",
       " 'improve',\n",
       " 'please',\n",
       " 'languages',\n",
       " 'applicants',\n",
       " 'science',\n",
       " 'visualization',\n",
       " 'written',\n",
       " 'mathematics',\n",
       " 'solving',\n",
       " 'scientific',\n",
       " 'group',\n",
       " 'needs',\n",
       " 'part',\n",
       " 'veteran',\n",
       " 'com',\n",
       " 'spark',\n",
       " 'education',\n",
       " 'responsible',\n",
       " 'perform',\n",
       " 'relevant',\n",
       " 'engineers',\n",
       " 'c',\n",
       " 'applied',\n",
       " 'full',\n",
       " 'ai',\n",
       " 'bachelor',\n",
       " 'orientation',\n",
       " '5',\n",
       " 'analytic',\n",
       " 'race',\n",
       " 'diverse',\n",
       " 'collaborate',\n",
       " 'model',\n",
       " 'reporting',\n",
       " 'medical',\n",
       " 'origin',\n",
       " 'religion',\n",
       " 'service',\n",
       " 'innovative',\n",
       " 'healthcare',\n",
       " 'various',\n",
       " 'professional',\n",
       " '2',\n",
       " 'language',\n",
       " 'marketing',\n",
       " 'color',\n",
       " 'protected',\n",
       " 'client',\n",
       " 'sexual',\n",
       " 'ml',\n",
       " 'deliver',\n",
       " 'familiarity',\n",
       " 'decisions',\n",
       " 'scale',\n",
       " 'maintain',\n",
       " 'existing',\n",
       " 'solve',\n",
       " 'companies',\n",
       " 'need',\n",
       " 'clearance',\n",
       " 'leading',\n",
       " 'organization',\n",
       " 'life',\n",
       " 'communicate',\n",
       " 'database',\n",
       " 'end',\n",
       " 'may',\n",
       " 'lead',\n",
       " 'implement',\n",
       " 'testing',\n",
       " 'making',\n",
       " 'senior',\n",
       " 'external',\n",
       " 'code',\n",
       " 'without',\n",
       " 'global',\n",
       " 'vision',\n",
       " 'system',\n",
       " 'day',\n",
       " 'datascientists',\n",
       " 'success',\n",
       " 'variety',\n",
       " 'identity',\n",
       " 'challenges',\n",
       " 'qualified',\n",
       " 'datasets',\n",
       " 'non',\n",
       " 'culture',\n",
       " 'program',\n",
       " 'aws',\n",
       " '1',\n",
       " 'insurance',\n",
       " 'better',\n",
       " 'reports',\n",
       " 'applying',\n",
       " 'datamining',\n",
       " 'seeking',\n",
       " 'value',\n",
       " 'minimum',\n",
       " 'growing',\n",
       " 'clinical',\n",
       " 'self',\n",
       " 'computer',\n",
       " 'source',\n",
       " 'digital',\n",
       " 'age',\n",
       " 'areas',\n",
       " 'background',\n",
       " 'production',\n",
       " 'following',\n",
       " 'functional',\n",
       " 'concepts',\n",
       " 'take',\n",
       " 'growth',\n",
       " 'open',\n",
       " 'java',\n",
       " 'programs',\n",
       " 'sex',\n",
       " 'providing',\n",
       " 'practices',\n",
       " 'capabilities',\n",
       " 'care',\n",
       " 'leadership',\n",
       " 'location',\n",
       " 'hadoop',\n",
       " 'employee',\n",
       " 'government',\n",
       " 'great',\n",
       " 'enterprise',\n",
       " 'focused',\n",
       " 'databases',\n",
       " 'cross',\n",
       " 'current',\n",
       " 'focus',\n",
       " 'every',\n",
       " 'state',\n",
       " 'federal',\n",
       " 'access',\n",
       " 'creating',\n",
       " 'financial',\n",
       " 'effectively',\n",
       " 'good',\n",
       " 'least',\n",
       " 'tableau',\n",
       " 'ensure',\n",
       " 'action',\n",
       " 'verbal',\n",
       " 'web',\n",
       " 'innovation',\n",
       " 'members',\n",
       " 'equivalent',\n",
       " 'different',\n",
       " 'manage',\n",
       " 'approaches',\n",
       " 'test',\n",
       " 'fast',\n",
       " 'right',\n",
       " 'closely',\n",
       " 'duties',\n",
       " 'platforms',\n",
       " 'get',\n",
       " 'proficiency',\n",
       " 'analyses',\n",
       " 'proven',\n",
       " 'issues',\n",
       " 'critical',\n",
       " 'optimization',\n",
       " 'hands',\n",
       " 'competitive',\n",
       " 'meet',\n",
       " 'agile',\n",
       " 'paid',\n",
       " 'questions',\n",
       " 'office',\n",
       " 'law',\n",
       " 'phd',\n",
       " 'passion',\n",
       " 'partner',\n",
       " 'computational',\n",
       " 'edge',\n",
       " 'visualizations',\n",
       " 'u',\n",
       " 'experts',\n",
       " 'regard',\n",
       " 'infrastructure',\n",
       " 'partners',\n",
       " 'ms',\n",
       " 'future',\n",
       " 'activities',\n",
       " 'engineer',\n",
       " 'plan',\n",
       " 'designing',\n",
       " 'distributed',\n",
       " 'outcomes',\n",
       " 'discipline',\n",
       " 'strategic',\n",
       " 'energy',\n",
       " 'set',\n",
       " 'recommendations',\n",
       " 'computing',\n",
       " 'offer',\n",
       " 'environments',\n",
       " 'year',\n",
       " 'creative',\n",
       " 'next',\n",
       " 'wide',\n",
       " 'social',\n",
       " 'inc',\n",
       " 'strategy',\n",
       " 'contribute',\n",
       " 'analyzing',\n",
       " 'structured',\n",
       " 'change',\n",
       " 'tasks',\n",
       " 'master',\n",
       " 'community',\n",
       " 'implementation',\n",
       " 'collaborative',\n",
       " 'networks',\n",
       " 'strategies',\n",
       " 'expert',\n",
       " 'unique',\n",
       " 'top',\n",
       " '4',\n",
       " 'leverage',\n",
       " 'frameworks',\n",
       " 'way',\n",
       " 'used',\n",
       " 'implementing',\n",
       " 'unstructured',\n",
       " 'ideas',\n",
       " 'analyst',\n",
       " 'requires',\n",
       " 'pipelines',\n",
       " 'address',\n",
       " 'tensorflow',\n",
       " 'core',\n",
       " 'motivated',\n",
       " 'find',\n",
       " 'know',\n",
       " 'human',\n",
       " 'domain',\n",
       " 'risk',\n",
       " 'present',\n",
       " 'specific',\n",
       " 'commercial',\n",
       " 'biology',\n",
       " 'collection',\n",
       " 'similar',\n",
       " 'successful',\n",
       " 'bi',\n",
       " 'goals',\n",
       " 'career',\n",
       " 'basis',\n",
       " 'appropriate',\n",
       " 'individual',\n",
       " 'independently',\n",
       " 'committed',\n",
       " 'actionable',\n",
       " 'together',\n",
       " 'ideal',\n",
       " 'enable',\n",
       " '10',\n",
       " 'findings',\n",
       " 'methodologies',\n",
       " 'desired',\n",
       " 'cutting',\n",
       " 'member',\n",
       " 'provides',\n",
       " 'citizenship',\n",
       " 'market',\n",
       " 'small',\n",
       " 'physics',\n",
       " 'architecture',\n",
       " 'record',\n",
       " 'optimize',\n",
       " '000',\n",
       " 'trends',\n",
       " 'range',\n",
       " 'passionate',\n",
       " 'essential',\n",
       " 'initiatives',\n",
       " 'area',\n",
       " 'define',\n",
       " 'regression',\n",
       " 'physical',\n",
       " 'procedures',\n",
       " 'de',\n",
       " 'flexible',\n",
       " 'microsoft',\n",
       " 'www',\n",
       " 'basic',\n",
       " 'standards',\n",
       " 'grow',\n",
       " 'candidates',\n",
       " 'sas',\n",
       " 'neural',\n",
       " 'around',\n",
       " 'potential',\n",
       " 'department',\n",
       " 'network',\n",
       " 'scala',\n",
       " 'patterns',\n",
       " 'mathematical',\n",
       " 'user',\n",
       " 'metrics',\n",
       " 'integration',\n",
       " 'users',\n",
       " 'travel',\n",
       " 'power',\n",
       " 'class',\n",
       " 'collaboration',\n",
       " 'efforts',\n",
       " 'experienced',\n",
       " 'want',\n",
       " 'natural',\n",
       " 'detail',\n",
       " 'track',\n",
       " 'multi',\n",
       " 'meaningful',\n",
       " 'ways',\n",
       " 'effective',\n",
       " 'would',\n",
       " 'oriented',\n",
       " 'salary',\n",
       " 'additional',\n",
       " 'evaluate',\n",
       " 'subject',\n",
       " 'functions',\n",
       " 'significant',\n",
       " 'modern',\n",
       " 'features',\n",
       " 'personal',\n",
       " 'analysts',\n",
       " 'math',\n",
       " 'affirmative',\n",
       " 'staff',\n",
       " 'receive',\n",
       " 'delivering',\n",
       " 'pipeline',\n",
       " 'artificial',\n",
       " 'planning',\n",
       " 'excel',\n",
       " 'things',\n",
       " 'active',\n",
       " 'others',\n",
       " 'comfortable',\n",
       " 'dental',\n",
       " 'plans',\n",
       " 'individuals',\n",
       " 'ad',\n",
       " 'delivery',\n",
       " 'objectives',\n",
       " 'k',\n",
       " 'transform',\n",
       " 'extensive',\n",
       " 'operational',\n",
       " 'local',\n",
       " 'available',\n",
       " 'achieve',\n",
       " 'control',\n",
       " 'sales',\n",
       " 'scalable',\n",
       " 'integrity',\n",
       " 'supporting',\n",
       " 'insight',\n",
       " 'compensation',\n",
       " 'quickly',\n",
       " 'extract',\n",
       " 'performing',\n",
       " 'first',\n",
       " 'review',\n",
       " 'patient',\n",
       " 'assist',\n",
       " 'love',\n",
       " 'states',\n",
       " 'automated',\n",
       " 'dashboards',\n",
       " 'sci',\n",
       " 'exceptional',\n",
       " 'dynamic',\n",
       " 'scientist',\n",
       " 'united',\n",
       " 'comprehensive',\n",
       " 'changing',\n",
       " 'relationships',\n",
       " 'relational',\n",
       " 'advance',\n",
       " 'solution',\n",
       " 'thinking',\n",
       " 'limited',\n",
       " 'art',\n",
       " 'businesses',\n",
       " 'etl',\n",
       " 'leaders',\n",
       " 'discovery',\n",
       " 'values',\n",
       " 'diversity',\n",
       " 'bring',\n",
       " 'marital',\n",
       " 'search',\n",
       " 'detection',\n",
       " 'automation',\n",
       " 'patients',\n",
       " 'san',\n",
       " 'resources',\n",
       " 'classification',\n",
       " 'require',\n",
       " 'consulting',\n",
       " 'directly',\n",
       " 'scientists',\n",
       " 'serve',\n",
       " 'accuracy',\n",
       " 'hive',\n",
       " 'clear',\n",
       " 'clustering',\n",
       " 'needed',\n",
       " 'ts',\n",
       " 'talented',\n",
       " 'drug',\n",
       " 'experiments',\n",
       " 'long',\n",
       " 'interpret',\n",
       " 'nlp',\n",
       " 'public',\n",
       " 'proficient',\n",
       " 'defense',\n",
       " 'writing',\n",
       " '100',\n",
       " 'applicable',\n",
       " 'matter',\n",
       " 'machine',\n",
       " 'fields',\n",
       " 'leader',\n",
       " 'experimental',\n",
       " 'consideration',\n",
       " 'deployment',\n",
       " 'document',\n",
       " 'term',\n",
       " 'generation',\n",
       " 'believe',\n",
       " 'accommodation',\n",
       " 'linux',\n",
       " 'nosql',\n",
       " 'interested',\n",
       " 'interpersonal',\n",
       " 'azure',\n",
       " 'done',\n",
       " 'hiring',\n",
       " 'experiences',\n",
       " 'policy',\n",
       " 'works',\n",
       " 'assigned',\n",
       " 'contact',\n",
       " 'economics',\n",
       " 'many',\n",
       " 'paced',\n",
       " 'audiences',\n",
       " 'family',\n",
       " 'warehouse',\n",
       " 'documentation',\n",
       " '6',\n",
       " 'validation',\n",
       " 'maintaining',\n",
       " 'novel',\n",
       " 'includes',\n",
       " 'laboratory',\n",
       " 'site',\n",
       " 'helping',\n",
       " 'feature',\n",
       " 'organizational',\n",
       " 'sciences',\n",
       " 'enhance',\n",
       " 'series',\n",
       " 'hoc',\n",
       " 'extraction',\n",
       " 'bs',\n",
       " 'line',\n",
       " 'important',\n",
       " 'common',\n",
       " 'participate',\n",
       " 'built',\n",
       " 'cell',\n",
       " 'consumer',\n",
       " 'managers',\n",
       " 'workplace',\n",
       " 'conduct',\n",
       " '8',\n",
       " 'scripting',\n",
       " 'improving',\n",
       " 'genetic',\n",
       " 'applicant',\n",
       " 'order',\n",
       " 'throughout',\n",
       " 'free',\n",
       " 'develops',\n",
       " 'manner',\n",
       " 'queries',\n",
       " 'presentation',\n",
       " 'integrate',\n",
       " 'direction',\n",
       " 'possess',\n",
       " 'packages',\n",
       " 'levels',\n",
       " 'agencies',\n",
       " 'structures',\n",
       " 'write',\n",
       " 'scikit',\n",
       " 'talent',\n",
       " 'presentations',\n",
       " 'obtain',\n",
       " 'google',\n",
       " 'excited',\n",
       " 'direct',\n",
       " 'report',\n",
       " 'approach',\n",
       " 'secret',\n",
       " 'general',\n",
       " 'pay',\n",
       " 'et',\n",
       " 'manufacturing',\n",
       " 'latest',\n",
       " 'prototype',\n",
       " 'visit',\n",
       " 'offers',\n",
       " 'move',\n",
       " 'brands',\n",
       " 'pandas',\n",
       " 'translate',\n",
       " 'standard',\n",
       " 'finance',\n",
       " 'careers',\n",
       " 'optimizing',\n",
       " 'attention',\n",
       " 'rapidly',\n",
       " 'transformation',\n",
       " 'content',\n",
       " 'reasonable',\n",
       " 'online',\n",
       " 'america',\n",
       " 'contractor',\n",
       " 'principles',\n",
       " 'annual',\n",
       " 'enjoy',\n",
       " 'emerging',\n",
       " 'offices',\n",
       " 'libraries',\n",
       " 'challenging',\n",
       " 'type',\n",
       " 'balance',\n",
       " 'dedicated',\n",
       " 'portfolio',\n",
       " 'evaluation',\n",
       " 'primary',\n",
       " 'means',\n",
       " 'think',\n",
       " 'francisco',\n",
       " 'custom',\n",
       " 'assistance',\n",
       " 'hire',\n",
       " 'interest',\n",
       " 'proud',\n",
       " 'deploy',\n",
       " 'demonstrate',\n",
       " 'bachelors',\n",
       " 'desirable',\n",
       " 'sponsor',\n",
       " 'share',\n",
       " 'addition',\n",
       " 'driving',\n",
       " 'expected',\n",
       " 'safety',\n",
       " 'maintenance',\n",
       " 'necessary',\n",
       " 'major',\n",
       " 'overview',\n",
       " '500',\n",
       " 'currently',\n",
       " 'investigation',\n",
       " 'bonus',\n",
       " 'always',\n",
       " 'space',\n",
       " 'identifying',\n",
       " 'presenting',\n",
       " 'matlab',\n",
       " 'pytorch',\n",
       " 'come',\n",
       " 'thrive',\n",
       " 'meetings',\n",
       " 'execution',\n",
       " 'summary',\n",
       " 'efficient',\n",
       " 'efficiency',\n",
       " 'outstanding',\n",
       " 'mental',\n",
       " 'eeo',\n",
       " 'professionals',\n",
       " 'agency',\n",
       " 'along',\n",
       " 'ph',\n",
       " 'amazon',\n",
       " 'possible',\n",
       " 'amounts',\n",
       " 'influence',\n",
       " 'person',\n",
       " 'leveraging',\n",
       " 'today',\n",
       " 'kafka',\n",
       " 'environmental',\n",
       " 'military',\n",
       " 'act',\n",
       " 'communicating',\n",
       " 'largest',\n",
       " 'managing',\n",
       " 'place',\n",
       " 'forward',\n",
       " 'challenge',\n",
       " 'coding',\n",
       " 'server',\n",
       " 'evidence',\n",
       " '401k',\n",
       " 'acquisition',\n",
       " 'text',\n",
       " 'requests',\n",
       " 'daily',\n",
       " 'fortune',\n",
       " 'mentor',\n",
       " 'numpy',\n",
       " 'start',\n",
       " 'assess',\n",
       " 'remote',\n",
       " 'discover',\n",
       " 'via',\n",
       " 'fun',\n",
       " 'prepare',\n",
       " 'corporate',\n",
       " 'methodology',\n",
       " 'consistent',\n",
       " 'monitoring',\n",
       " 'deliverables',\n",
       " 'hours',\n",
       " 'difference',\n",
       " 'millions',\n",
       " 'regulatory',\n",
       " 'previous',\n",
       " 'discriminate',\n",
       " 'uses',\n",
       " 'designs',\n",
       " 'made',\n",
       " 'details',\n",
       " 'washington',\n",
       " 'masters',\n",
       " 'feedback',\n",
       " 'communications',\n",
       " 'package',\n",
       " 'prioritize',\n",
       " 'go',\n",
       " 'interact',\n",
       " 'lives',\n",
       " 'explore',\n",
       " 'unit',\n",
       " 'shall',\n",
       " 'cyber',\n",
       " 'apache',\n",
       " 'operating',\n",
       " 'audit',\n",
       " 'practical',\n",
       " 'see',\n",
       " 'powered',\n",
       " 'organizations',\n",
       " 'expression',\n",
       " 'veterans',\n",
       " 'b',\n",
       " 'exciting',\n",
       " 'developers',\n",
       " 'pre',\n",
       " 'willing',\n",
       " 'execute',\n",
       " 'medicine',\n",
       " 'broad',\n",
       " 'monitor',\n",
       " 'purpose',\n",
       " 'owners',\n",
       " 'cases',\n",
       " 'robust',\n",
       " 'linear',\n",
       " 'trees',\n",
       " 'date',\n",
       " 'improvement',\n",
       " 'colleagues',\n",
       " 'oral',\n",
       " 'even',\n",
       " 'continuous',\n",
       " 'image',\n",
       " '401',\n",
       " 'fundamental',\n",
       " 'creation',\n",
       " 'practice',\n",
       " 'collect',\n",
       " 'complete',\n",
       " 'follow',\n",
       " 'email',\n",
       " 'desire',\n",
       " 'depth',\n",
       " 'industries',\n",
       " 'id',\n",
       " 'manipulation',\n",
       " 'keep',\n",
       " 'generate',\n",
       " 'trust',\n",
       " 'positive',\n",
       " 'cost',\n",
       " 'outside',\n",
       " 'utilize',\n",
       " 'izea',\n",
       " 'considered',\n",
       " 'characteristic',\n",
       " 'policies',\n",
       " 'stack',\n",
       " 'commitment',\n",
       " 'resume',\n",
       " 'molecular',\n",
       " 'unsupervised',\n",
       " 'prediction',\n",
       " 'abilities',\n",
       " 'firm',\n",
       " 'goal',\n",
       " 'investment',\n",
       " 'associated',\n",
       " 'provider',\n",
       " 'scope',\n",
       " 'upon',\n",
       " 'utilizing',\n",
       " '7',\n",
       " 'framework',\n",
       " 'proprietary',\n",
       " 'architectures',\n",
       " 'clearly',\n",
       " 'makes',\n",
       " 'home',\n",
       " 'owned',\n",
       " 'contract',\n",
       " 'center',\n",
       " 'determine',\n",
       " 'vacation',\n",
       " 'leave',\n",
       " 'phoenix',\n",
       " 'days',\n",
       " 'streaming',\n",
       " 'forecasting',\n",
       " 'entire',\n",
       " 'cancer',\n",
       " 'audience',\n",
       " 'title',\n",
       " 'continue',\n",
       " 'leads',\n",
       " 'timely',\n",
       " 'changes',\n",
       " 'rely',\n",
       " 'easy',\n",
       " 'matching',\n",
       " 'ongoing',\n",
       " 'solid',\n",
       " 'benefit',\n",
       " 'query',\n",
       " 'genetics',\n",
       " 'number',\n",
       " 'disparate',\n",
       " 'resumes',\n",
       " 'worldwide',\n",
       " 'view',\n",
       " 'git',\n",
       " 'skilled',\n",
       " 'efficiently',\n",
       " 'located',\n",
       " 'apis',\n",
       " 'ownership',\n",
       " 'back',\n",
       " 'player',\n",
       " 'javascript',\n",
       " 'lab',\n",
       " 'autodesk',\n",
       " 'selected',\n",
       " 'cloudcomputing',\n",
       " 'familiar',\n",
       " 'storage',\n",
       " 'des',\n",
       " 'cleaning',\n",
       " 'two',\n",
       " 'mining',\n",
       " 'live',\n",
       " 'selection',\n",
       " 'supports',\n",
       " 'verify',\n",
       " 'history',\n",
       " 'manager',\n",
       " 'starter',\n",
       " 'priorities',\n",
       " 'joining',\n",
       " 'types',\n",
       " 'eligibility',\n",
       " 'become',\n",
       " 'ecosystem',\n",
       " 'precision',\n",
       " 'oncology',\n",
       " 'statisticalmodels',\n",
       " 'capability',\n",
       " 'compliance',\n",
       " 'en',\n",
       " 'legal',\n",
       " 'laws',\n",
       " 'headquartered',\n",
       " 'setting',\n",
       " 'division',\n",
       " 'regular',\n",
       " 'improvements',\n",
       " 'creativity',\n",
       " 'excellence',\n",
       " 'produce',\n",
       " 'applies',\n",
       " 'sense',\n",
       " 'groups',\n",
       " 'match',\n",
       " 'pregnancy',\n",
       " 'visual',\n",
       " 'study',\n",
       " 'beyond',\n",
       " 'base',\n",
       " 'disabilities',\n",
       " 'algorithm',\n",
       " 'behavior',\n",
       " 'entrepreneurial',\n",
       " 'conducting',\n",
       " 'higher',\n",
       " 'foundation']"
      ]
     },
     "execution_count": 43,
     "metadata": {},
     "output_type": "execute_result"
    }
   ],
   "source": [
    "common_words\n",
    "\n",
    "# We have many words that dont give that much info"
   ]
  },
  {
   "cell_type": "markdown",
   "id": "b5861aa4",
   "metadata": {},
   "source": [
    "### So I decided to search for words on my own :\n",
    "\n",
    "I did this with some Hard and Soft skills"
   ]
  },
  {
   "cell_type": "code",
   "execution_count": 59,
   "id": "cb88a61a",
   "metadata": {},
   "outputs": [
    {
     "data": {
      "text/plain": [
       "['python', 'sql', 'r', 'c', 'sas', 'nosql']"
      ]
     },
     "execution_count": 59,
     "metadata": {},
     "output_type": "execute_result"
    }
   ],
   "source": [
    "hardskills = [word for word in common_words if word in [\"python\",\"c\",\"sql\",\"nosql\",\"r\",\"sas\",\"mongodb\",\"cassandra\"]]\n",
    "hardskills \n",
    "#they are all mentioned in the top 1000 words exept mongodb and cassandra"
   ]
  },
  {
   "cell_type": "code",
   "execution_count": 63,
   "id": "f45d67ce",
   "metadata": {},
   "outputs": [
    {
     "data": {
      "text/plain": [
       "['cloud', 'aws', 'azure', 'cloudcomputing']"
      ]
     },
     "execution_count": 63,
     "metadata": {},
     "output_type": "execute_result"
    }
   ],
   "source": [
    "Cloudskills = [word for word in common_words if word in [\"cloudcomputing\",\"cloud\",\"aws\",\"azure\",\"gcp\"]]\n",
    "Cloudskills\n",
    "#Ajouter encore d'autres mots qui peuvent ressembler"
   ]
  },
  {
   "cell_type": "code",
   "execution_count": 61,
   "id": "05dae6c2",
   "metadata": {},
   "outputs": [
    {
     "data": {
      "text/plain": [
       "['machinelearning', 'statistics', 'processing', 'visualization', 'datamining']"
      ]
     },
     "execution_count": 61,
     "metadata": {},
     "output_type": "execute_result"
    }
   ],
   "source": [
    "Otherskills = [word for word in common_words if word in [\"processing\",\"visualization\",\"dataanalytics\",\"datamining\",\"machinelearning\",\"statistics\"]]\n",
    "Otherskills"
   ]
  },
  {
   "cell_type": "markdown",
   "id": "903e636a",
   "metadata": {},
   "source": [
    "### We see that : \n",
    "\n",
    "- Python and R are both in the top 1000 so we will compare them (with other programming langages)\n",
    "- We will take a look on SQL/NoSQL\n",
    "- then we will look at cloud computing\n",
    "- We will look at some other skills (visualisation, mining and so on)"
   ]
  },
  {
   "cell_type": "code",
   "execution_count": 37,
   "id": "d78c17c6",
   "metadata": {},
   "outputs": [],
   "source": [
    "import plotly.express as px\n",
    "import plotly.graph_objects as go"
   ]
  },
  {
   "cell_type": "code",
   "execution_count": 55,
   "id": "e0342692",
   "metadata": {},
   "outputs": [
    {
     "data": {
      "application/vnd.plotly.v1+json": {
       "config": {
        "plotlyServerURL": "https://plot.ly"
       },
       "data": [
        {
         "labels": [
          "Python",
          "R",
          "sas",
          "c"
         ],
         "textinfo": "value",
         "textposition": "outside",
         "texttemplate": "%{value:.0f}",
         "type": "pie",
         "values": [
          646,
          449,
          105,
          217
         ]
        }
       ],
       "layout": {
        "showlegend": true,
        "template": {
         "data": {
          "bar": [
           {
            "error_x": {
             "color": "#2a3f5f"
            },
            "error_y": {
             "color": "#2a3f5f"
            },
            "marker": {
             "line": {
              "color": "#E5ECF6",
              "width": 0.5
             },
             "pattern": {
              "fillmode": "overlay",
              "size": 10,
              "solidity": 0.2
             }
            },
            "type": "bar"
           }
          ],
          "barpolar": [
           {
            "marker": {
             "line": {
              "color": "#E5ECF6",
              "width": 0.5
             },
             "pattern": {
              "fillmode": "overlay",
              "size": 10,
              "solidity": 0.2
             }
            },
            "type": "barpolar"
           }
          ],
          "carpet": [
           {
            "aaxis": {
             "endlinecolor": "#2a3f5f",
             "gridcolor": "white",
             "linecolor": "white",
             "minorgridcolor": "white",
             "startlinecolor": "#2a3f5f"
            },
            "baxis": {
             "endlinecolor": "#2a3f5f",
             "gridcolor": "white",
             "linecolor": "white",
             "minorgridcolor": "white",
             "startlinecolor": "#2a3f5f"
            },
            "type": "carpet"
           }
          ],
          "choropleth": [
           {
            "colorbar": {
             "outlinewidth": 0,
             "ticks": ""
            },
            "type": "choropleth"
           }
          ],
          "contour": [
           {
            "colorbar": {
             "outlinewidth": 0,
             "ticks": ""
            },
            "colorscale": [
             [
              0,
              "#0d0887"
             ],
             [
              0.1111111111111111,
              "#46039f"
             ],
             [
              0.2222222222222222,
              "#7201a8"
             ],
             [
              0.3333333333333333,
              "#9c179e"
             ],
             [
              0.4444444444444444,
              "#bd3786"
             ],
             [
              0.5555555555555556,
              "#d8576b"
             ],
             [
              0.6666666666666666,
              "#ed7953"
             ],
             [
              0.7777777777777778,
              "#fb9f3a"
             ],
             [
              0.8888888888888888,
              "#fdca26"
             ],
             [
              1,
              "#f0f921"
             ]
            ],
            "type": "contour"
           }
          ],
          "contourcarpet": [
           {
            "colorbar": {
             "outlinewidth": 0,
             "ticks": ""
            },
            "type": "contourcarpet"
           }
          ],
          "heatmap": [
           {
            "colorbar": {
             "outlinewidth": 0,
             "ticks": ""
            },
            "colorscale": [
             [
              0,
              "#0d0887"
             ],
             [
              0.1111111111111111,
              "#46039f"
             ],
             [
              0.2222222222222222,
              "#7201a8"
             ],
             [
              0.3333333333333333,
              "#9c179e"
             ],
             [
              0.4444444444444444,
              "#bd3786"
             ],
             [
              0.5555555555555556,
              "#d8576b"
             ],
             [
              0.6666666666666666,
              "#ed7953"
             ],
             [
              0.7777777777777778,
              "#fb9f3a"
             ],
             [
              0.8888888888888888,
              "#fdca26"
             ],
             [
              1,
              "#f0f921"
             ]
            ],
            "type": "heatmap"
           }
          ],
          "heatmapgl": [
           {
            "colorbar": {
             "outlinewidth": 0,
             "ticks": ""
            },
            "colorscale": [
             [
              0,
              "#0d0887"
             ],
             [
              0.1111111111111111,
              "#46039f"
             ],
             [
              0.2222222222222222,
              "#7201a8"
             ],
             [
              0.3333333333333333,
              "#9c179e"
             ],
             [
              0.4444444444444444,
              "#bd3786"
             ],
             [
              0.5555555555555556,
              "#d8576b"
             ],
             [
              0.6666666666666666,
              "#ed7953"
             ],
             [
              0.7777777777777778,
              "#fb9f3a"
             ],
             [
              0.8888888888888888,
              "#fdca26"
             ],
             [
              1,
              "#f0f921"
             ]
            ],
            "type": "heatmapgl"
           }
          ],
          "histogram": [
           {
            "marker": {
             "pattern": {
              "fillmode": "overlay",
              "size": 10,
              "solidity": 0.2
             }
            },
            "type": "histogram"
           }
          ],
          "histogram2d": [
           {
            "colorbar": {
             "outlinewidth": 0,
             "ticks": ""
            },
            "colorscale": [
             [
              0,
              "#0d0887"
             ],
             [
              0.1111111111111111,
              "#46039f"
             ],
             [
              0.2222222222222222,
              "#7201a8"
             ],
             [
              0.3333333333333333,
              "#9c179e"
             ],
             [
              0.4444444444444444,
              "#bd3786"
             ],
             [
              0.5555555555555556,
              "#d8576b"
             ],
             [
              0.6666666666666666,
              "#ed7953"
             ],
             [
              0.7777777777777778,
              "#fb9f3a"
             ],
             [
              0.8888888888888888,
              "#fdca26"
             ],
             [
              1,
              "#f0f921"
             ]
            ],
            "type": "histogram2d"
           }
          ],
          "histogram2dcontour": [
           {
            "colorbar": {
             "outlinewidth": 0,
             "ticks": ""
            },
            "colorscale": [
             [
              0,
              "#0d0887"
             ],
             [
              0.1111111111111111,
              "#46039f"
             ],
             [
              0.2222222222222222,
              "#7201a8"
             ],
             [
              0.3333333333333333,
              "#9c179e"
             ],
             [
              0.4444444444444444,
              "#bd3786"
             ],
             [
              0.5555555555555556,
              "#d8576b"
             ],
             [
              0.6666666666666666,
              "#ed7953"
             ],
             [
              0.7777777777777778,
              "#fb9f3a"
             ],
             [
              0.8888888888888888,
              "#fdca26"
             ],
             [
              1,
              "#f0f921"
             ]
            ],
            "type": "histogram2dcontour"
           }
          ],
          "mesh3d": [
           {
            "colorbar": {
             "outlinewidth": 0,
             "ticks": ""
            },
            "type": "mesh3d"
           }
          ],
          "parcoords": [
           {
            "line": {
             "colorbar": {
              "outlinewidth": 0,
              "ticks": ""
             }
            },
            "type": "parcoords"
           }
          ],
          "pie": [
           {
            "automargin": true,
            "type": "pie"
           }
          ],
          "scatter": [
           {
            "fillpattern": {
             "fillmode": "overlay",
             "size": 10,
             "solidity": 0.2
            },
            "type": "scatter"
           }
          ],
          "scatter3d": [
           {
            "line": {
             "colorbar": {
              "outlinewidth": 0,
              "ticks": ""
             }
            },
            "marker": {
             "colorbar": {
              "outlinewidth": 0,
              "ticks": ""
             }
            },
            "type": "scatter3d"
           }
          ],
          "scattercarpet": [
           {
            "marker": {
             "colorbar": {
              "outlinewidth": 0,
              "ticks": ""
             }
            },
            "type": "scattercarpet"
           }
          ],
          "scattergeo": [
           {
            "marker": {
             "colorbar": {
              "outlinewidth": 0,
              "ticks": ""
             }
            },
            "type": "scattergeo"
           }
          ],
          "scattergl": [
           {
            "marker": {
             "colorbar": {
              "outlinewidth": 0,
              "ticks": ""
             }
            },
            "type": "scattergl"
           }
          ],
          "scattermapbox": [
           {
            "marker": {
             "colorbar": {
              "outlinewidth": 0,
              "ticks": ""
             }
            },
            "type": "scattermapbox"
           }
          ],
          "scatterpolar": [
           {
            "marker": {
             "colorbar": {
              "outlinewidth": 0,
              "ticks": ""
             }
            },
            "type": "scatterpolar"
           }
          ],
          "scatterpolargl": [
           {
            "marker": {
             "colorbar": {
              "outlinewidth": 0,
              "ticks": ""
             }
            },
            "type": "scatterpolargl"
           }
          ],
          "scatterternary": [
           {
            "marker": {
             "colorbar": {
              "outlinewidth": 0,
              "ticks": ""
             }
            },
            "type": "scatterternary"
           }
          ],
          "surface": [
           {
            "colorbar": {
             "outlinewidth": 0,
             "ticks": ""
            },
            "colorscale": [
             [
              0,
              "#0d0887"
             ],
             [
              0.1111111111111111,
              "#46039f"
             ],
             [
              0.2222222222222222,
              "#7201a8"
             ],
             [
              0.3333333333333333,
              "#9c179e"
             ],
             [
              0.4444444444444444,
              "#bd3786"
             ],
             [
              0.5555555555555556,
              "#d8576b"
             ],
             [
              0.6666666666666666,
              "#ed7953"
             ],
             [
              0.7777777777777778,
              "#fb9f3a"
             ],
             [
              0.8888888888888888,
              "#fdca26"
             ],
             [
              1,
              "#f0f921"
             ]
            ],
            "type": "surface"
           }
          ],
          "table": [
           {
            "cells": {
             "fill": {
              "color": "#EBF0F8"
             },
             "line": {
              "color": "white"
             }
            },
            "header": {
             "fill": {
              "color": "#C8D4E3"
             },
             "line": {
              "color": "white"
             }
            },
            "type": "table"
           }
          ]
         },
         "layout": {
          "annotationdefaults": {
           "arrowcolor": "#2a3f5f",
           "arrowhead": 0,
           "arrowwidth": 1
          },
          "autotypenumbers": "strict",
          "coloraxis": {
           "colorbar": {
            "outlinewidth": 0,
            "ticks": ""
           }
          },
          "colorscale": {
           "diverging": [
            [
             0,
             "#8e0152"
            ],
            [
             0.1,
             "#c51b7d"
            ],
            [
             0.2,
             "#de77ae"
            ],
            [
             0.3,
             "#f1b6da"
            ],
            [
             0.4,
             "#fde0ef"
            ],
            [
             0.5,
             "#f7f7f7"
            ],
            [
             0.6,
             "#e6f5d0"
            ],
            [
             0.7,
             "#b8e186"
            ],
            [
             0.8,
             "#7fbc41"
            ],
            [
             0.9,
             "#4d9221"
            ],
            [
             1,
             "#276419"
            ]
           ],
           "sequential": [
            [
             0,
             "#0d0887"
            ],
            [
             0.1111111111111111,
             "#46039f"
            ],
            [
             0.2222222222222222,
             "#7201a8"
            ],
            [
             0.3333333333333333,
             "#9c179e"
            ],
            [
             0.4444444444444444,
             "#bd3786"
            ],
            [
             0.5555555555555556,
             "#d8576b"
            ],
            [
             0.6666666666666666,
             "#ed7953"
            ],
            [
             0.7777777777777778,
             "#fb9f3a"
            ],
            [
             0.8888888888888888,
             "#fdca26"
            ],
            [
             1,
             "#f0f921"
            ]
           ],
           "sequentialminus": [
            [
             0,
             "#0d0887"
            ],
            [
             0.1111111111111111,
             "#46039f"
            ],
            [
             0.2222222222222222,
             "#7201a8"
            ],
            [
             0.3333333333333333,
             "#9c179e"
            ],
            [
             0.4444444444444444,
             "#bd3786"
            ],
            [
             0.5555555555555556,
             "#d8576b"
            ],
            [
             0.6666666666666666,
             "#ed7953"
            ],
            [
             0.7777777777777778,
             "#fb9f3a"
            ],
            [
             0.8888888888888888,
             "#fdca26"
            ],
            [
             1,
             "#f0f921"
            ]
           ]
          },
          "colorway": [
           "#636efa",
           "#EF553B",
           "#00cc96",
           "#ab63fa",
           "#FFA15A",
           "#19d3f3",
           "#FF6692",
           "#B6E880",
           "#FF97FF",
           "#FECB52"
          ],
          "font": {
           "color": "#2a3f5f"
          },
          "geo": {
           "bgcolor": "white",
           "lakecolor": "white",
           "landcolor": "#E5ECF6",
           "showlakes": true,
           "showland": true,
           "subunitcolor": "white"
          },
          "hoverlabel": {
           "align": "left"
          },
          "hovermode": "closest",
          "mapbox": {
           "style": "light"
          },
          "paper_bgcolor": "white",
          "plot_bgcolor": "#E5ECF6",
          "polar": {
           "angularaxis": {
            "gridcolor": "white",
            "linecolor": "white",
            "ticks": ""
           },
           "bgcolor": "#E5ECF6",
           "radialaxis": {
            "gridcolor": "white",
            "linecolor": "white",
            "ticks": ""
           }
          },
          "scene": {
           "xaxis": {
            "backgroundcolor": "#E5ECF6",
            "gridcolor": "white",
            "gridwidth": 2,
            "linecolor": "white",
            "showbackground": true,
            "ticks": "",
            "zerolinecolor": "white"
           },
           "yaxis": {
            "backgroundcolor": "#E5ECF6",
            "gridcolor": "white",
            "gridwidth": 2,
            "linecolor": "white",
            "showbackground": true,
            "ticks": "",
            "zerolinecolor": "white"
           },
           "zaxis": {
            "backgroundcolor": "#E5ECF6",
            "gridcolor": "white",
            "gridwidth": 2,
            "linecolor": "white",
            "showbackground": true,
            "ticks": "",
            "zerolinecolor": "white"
           }
          },
          "shapedefaults": {
           "line": {
            "color": "#2a3f5f"
           }
          },
          "ternary": {
           "aaxis": {
            "gridcolor": "white",
            "linecolor": "white",
            "ticks": ""
           },
           "baxis": {
            "gridcolor": "white",
            "linecolor": "white",
            "ticks": ""
           },
           "bgcolor": "#E5ECF6",
           "caxis": {
            "gridcolor": "white",
            "linecolor": "white",
            "ticks": ""
           }
          },
          "title": {
           "x": 0.05
          },
          "xaxis": {
           "automargin": true,
           "gridcolor": "white",
           "linecolor": "white",
           "ticks": "",
           "title": {
            "standoff": 15
           },
           "zerolinecolor": "white",
           "zerolinewidth": 2
          },
          "yaxis": {
           "automargin": true,
           "gridcolor": "white",
           "linecolor": "white",
           "ticks": "",
           "title": {
            "standoff": 15
           },
           "zerolinecolor": "white",
           "zerolinewidth": 2
          }
         }
        },
        "title": {
         "font": {
          "size": 18
         },
         "text": "Frequency of programming langage Skills in Job Descriptions"
        }
       }
      },
      "text/html": [
       "<div>                            <div id=\"1cb9c4bd-0925-4479-bb38-9e2de11d3109\" class=\"plotly-graph-div\" style=\"height:525px; width:100%;\"></div>            <script type=\"text/javascript\">                require([\"plotly\"], function(Plotly) {                    window.PLOTLYENV=window.PLOTLYENV || {};                                    if (document.getElementById(\"1cb9c4bd-0925-4479-bb38-9e2de11d3109\")) {                    Plotly.newPlot(                        \"1cb9c4bd-0925-4479-bb38-9e2de11d3109\",                        [{\"labels\":[\"Python\",\"R\",\"sas\",\"c\"],\"textinfo\":\"value\",\"values\":[646,449,105,217],\"type\":\"pie\",\"textposition\":\"outside\",\"texttemplate\":\"%{value:.0f}\"}],                        {\"template\":{\"data\":{\"histogram2dcontour\":[{\"type\":\"histogram2dcontour\",\"colorbar\":{\"outlinewidth\":0,\"ticks\":\"\"},\"colorscale\":[[0.0,\"#0d0887\"],[0.1111111111111111,\"#46039f\"],[0.2222222222222222,\"#7201a8\"],[0.3333333333333333,\"#9c179e\"],[0.4444444444444444,\"#bd3786\"],[0.5555555555555556,\"#d8576b\"],[0.6666666666666666,\"#ed7953\"],[0.7777777777777778,\"#fb9f3a\"],[0.8888888888888888,\"#fdca26\"],[1.0,\"#f0f921\"]]}],\"choropleth\":[{\"type\":\"choropleth\",\"colorbar\":{\"outlinewidth\":0,\"ticks\":\"\"}}],\"histogram2d\":[{\"type\":\"histogram2d\",\"colorbar\":{\"outlinewidth\":0,\"ticks\":\"\"},\"colorscale\":[[0.0,\"#0d0887\"],[0.1111111111111111,\"#46039f\"],[0.2222222222222222,\"#7201a8\"],[0.3333333333333333,\"#9c179e\"],[0.4444444444444444,\"#bd3786\"],[0.5555555555555556,\"#d8576b\"],[0.6666666666666666,\"#ed7953\"],[0.7777777777777778,\"#fb9f3a\"],[0.8888888888888888,\"#fdca26\"],[1.0,\"#f0f921\"]]}],\"heatmap\":[{\"type\":\"heatmap\",\"colorbar\":{\"outlinewidth\":0,\"ticks\":\"\"},\"colorscale\":[[0.0,\"#0d0887\"],[0.1111111111111111,\"#46039f\"],[0.2222222222222222,\"#7201a8\"],[0.3333333333333333,\"#9c179e\"],[0.4444444444444444,\"#bd3786\"],[0.5555555555555556,\"#d8576b\"],[0.6666666666666666,\"#ed7953\"],[0.7777777777777778,\"#fb9f3a\"],[0.8888888888888888,\"#fdca26\"],[1.0,\"#f0f921\"]]}],\"heatmapgl\":[{\"type\":\"heatmapgl\",\"colorbar\":{\"outlinewidth\":0,\"ticks\":\"\"},\"colorscale\":[[0.0,\"#0d0887\"],[0.1111111111111111,\"#46039f\"],[0.2222222222222222,\"#7201a8\"],[0.3333333333333333,\"#9c179e\"],[0.4444444444444444,\"#bd3786\"],[0.5555555555555556,\"#d8576b\"],[0.6666666666666666,\"#ed7953\"],[0.7777777777777778,\"#fb9f3a\"],[0.8888888888888888,\"#fdca26\"],[1.0,\"#f0f921\"]]}],\"contourcarpet\":[{\"type\":\"contourcarpet\",\"colorbar\":{\"outlinewidth\":0,\"ticks\":\"\"}}],\"contour\":[{\"type\":\"contour\",\"colorbar\":{\"outlinewidth\":0,\"ticks\":\"\"},\"colorscale\":[[0.0,\"#0d0887\"],[0.1111111111111111,\"#46039f\"],[0.2222222222222222,\"#7201a8\"],[0.3333333333333333,\"#9c179e\"],[0.4444444444444444,\"#bd3786\"],[0.5555555555555556,\"#d8576b\"],[0.6666666666666666,\"#ed7953\"],[0.7777777777777778,\"#fb9f3a\"],[0.8888888888888888,\"#fdca26\"],[1.0,\"#f0f921\"]]}],\"surface\":[{\"type\":\"surface\",\"colorbar\":{\"outlinewidth\":0,\"ticks\":\"\"},\"colorscale\":[[0.0,\"#0d0887\"],[0.1111111111111111,\"#46039f\"],[0.2222222222222222,\"#7201a8\"],[0.3333333333333333,\"#9c179e\"],[0.4444444444444444,\"#bd3786\"],[0.5555555555555556,\"#d8576b\"],[0.6666666666666666,\"#ed7953\"],[0.7777777777777778,\"#fb9f3a\"],[0.8888888888888888,\"#fdca26\"],[1.0,\"#f0f921\"]]}],\"mesh3d\":[{\"type\":\"mesh3d\",\"colorbar\":{\"outlinewidth\":0,\"ticks\":\"\"}}],\"scatter\":[{\"fillpattern\":{\"fillmode\":\"overlay\",\"size\":10,\"solidity\":0.2},\"type\":\"scatter\"}],\"parcoords\":[{\"type\":\"parcoords\",\"line\":{\"colorbar\":{\"outlinewidth\":0,\"ticks\":\"\"}}}],\"scatterpolargl\":[{\"type\":\"scatterpolargl\",\"marker\":{\"colorbar\":{\"outlinewidth\":0,\"ticks\":\"\"}}}],\"bar\":[{\"error_x\":{\"color\":\"#2a3f5f\"},\"error_y\":{\"color\":\"#2a3f5f\"},\"marker\":{\"line\":{\"color\":\"#E5ECF6\",\"width\":0.5},\"pattern\":{\"fillmode\":\"overlay\",\"size\":10,\"solidity\":0.2}},\"type\":\"bar\"}],\"scattergeo\":[{\"type\":\"scattergeo\",\"marker\":{\"colorbar\":{\"outlinewidth\":0,\"ticks\":\"\"}}}],\"scatterpolar\":[{\"type\":\"scatterpolar\",\"marker\":{\"colorbar\":{\"outlinewidth\":0,\"ticks\":\"\"}}}],\"histogram\":[{\"marker\":{\"pattern\":{\"fillmode\":\"overlay\",\"size\":10,\"solidity\":0.2}},\"type\":\"histogram\"}],\"scattergl\":[{\"type\":\"scattergl\",\"marker\":{\"colorbar\":{\"outlinewidth\":0,\"ticks\":\"\"}}}],\"scatter3d\":[{\"type\":\"scatter3d\",\"line\":{\"colorbar\":{\"outlinewidth\":0,\"ticks\":\"\"}},\"marker\":{\"colorbar\":{\"outlinewidth\":0,\"ticks\":\"\"}}}],\"scattermapbox\":[{\"type\":\"scattermapbox\",\"marker\":{\"colorbar\":{\"outlinewidth\":0,\"ticks\":\"\"}}}],\"scatterternary\":[{\"type\":\"scatterternary\",\"marker\":{\"colorbar\":{\"outlinewidth\":0,\"ticks\":\"\"}}}],\"scattercarpet\":[{\"type\":\"scattercarpet\",\"marker\":{\"colorbar\":{\"outlinewidth\":0,\"ticks\":\"\"}}}],\"carpet\":[{\"aaxis\":{\"endlinecolor\":\"#2a3f5f\",\"gridcolor\":\"white\",\"linecolor\":\"white\",\"minorgridcolor\":\"white\",\"startlinecolor\":\"#2a3f5f\"},\"baxis\":{\"endlinecolor\":\"#2a3f5f\",\"gridcolor\":\"white\",\"linecolor\":\"white\",\"minorgridcolor\":\"white\",\"startlinecolor\":\"#2a3f5f\"},\"type\":\"carpet\"}],\"table\":[{\"cells\":{\"fill\":{\"color\":\"#EBF0F8\"},\"line\":{\"color\":\"white\"}},\"header\":{\"fill\":{\"color\":\"#C8D4E3\"},\"line\":{\"color\":\"white\"}},\"type\":\"table\"}],\"barpolar\":[{\"marker\":{\"line\":{\"color\":\"#E5ECF6\",\"width\":0.5},\"pattern\":{\"fillmode\":\"overlay\",\"size\":10,\"solidity\":0.2}},\"type\":\"barpolar\"}],\"pie\":[{\"automargin\":true,\"type\":\"pie\"}]},\"layout\":{\"autotypenumbers\":\"strict\",\"colorway\":[\"#636efa\",\"#EF553B\",\"#00cc96\",\"#ab63fa\",\"#FFA15A\",\"#19d3f3\",\"#FF6692\",\"#B6E880\",\"#FF97FF\",\"#FECB52\"],\"font\":{\"color\":\"#2a3f5f\"},\"hovermode\":\"closest\",\"hoverlabel\":{\"align\":\"left\"},\"paper_bgcolor\":\"white\",\"plot_bgcolor\":\"#E5ECF6\",\"polar\":{\"bgcolor\":\"#E5ECF6\",\"angularaxis\":{\"gridcolor\":\"white\",\"linecolor\":\"white\",\"ticks\":\"\"},\"radialaxis\":{\"gridcolor\":\"white\",\"linecolor\":\"white\",\"ticks\":\"\"}},\"ternary\":{\"bgcolor\":\"#E5ECF6\",\"aaxis\":{\"gridcolor\":\"white\",\"linecolor\":\"white\",\"ticks\":\"\"},\"baxis\":{\"gridcolor\":\"white\",\"linecolor\":\"white\",\"ticks\":\"\"},\"caxis\":{\"gridcolor\":\"white\",\"linecolor\":\"white\",\"ticks\":\"\"}},\"coloraxis\":{\"colorbar\":{\"outlinewidth\":0,\"ticks\":\"\"}},\"colorscale\":{\"sequential\":[[0.0,\"#0d0887\"],[0.1111111111111111,\"#46039f\"],[0.2222222222222222,\"#7201a8\"],[0.3333333333333333,\"#9c179e\"],[0.4444444444444444,\"#bd3786\"],[0.5555555555555556,\"#d8576b\"],[0.6666666666666666,\"#ed7953\"],[0.7777777777777778,\"#fb9f3a\"],[0.8888888888888888,\"#fdca26\"],[1.0,\"#f0f921\"]],\"sequentialminus\":[[0.0,\"#0d0887\"],[0.1111111111111111,\"#46039f\"],[0.2222222222222222,\"#7201a8\"],[0.3333333333333333,\"#9c179e\"],[0.4444444444444444,\"#bd3786\"],[0.5555555555555556,\"#d8576b\"],[0.6666666666666666,\"#ed7953\"],[0.7777777777777778,\"#fb9f3a\"],[0.8888888888888888,\"#fdca26\"],[1.0,\"#f0f921\"]],\"diverging\":[[0,\"#8e0152\"],[0.1,\"#c51b7d\"],[0.2,\"#de77ae\"],[0.3,\"#f1b6da\"],[0.4,\"#fde0ef\"],[0.5,\"#f7f7f7\"],[0.6,\"#e6f5d0\"],[0.7,\"#b8e186\"],[0.8,\"#7fbc41\"],[0.9,\"#4d9221\"],[1,\"#276419\"]]},\"xaxis\":{\"gridcolor\":\"white\",\"linecolor\":\"white\",\"ticks\":\"\",\"title\":{\"standoff\":15},\"zerolinecolor\":\"white\",\"automargin\":true,\"zerolinewidth\":2},\"yaxis\":{\"gridcolor\":\"white\",\"linecolor\":\"white\",\"ticks\":\"\",\"title\":{\"standoff\":15},\"zerolinecolor\":\"white\",\"automargin\":true,\"zerolinewidth\":2},\"scene\":{\"xaxis\":{\"backgroundcolor\":\"#E5ECF6\",\"gridcolor\":\"white\",\"linecolor\":\"white\",\"showbackground\":true,\"ticks\":\"\",\"zerolinecolor\":\"white\",\"gridwidth\":2},\"yaxis\":{\"backgroundcolor\":\"#E5ECF6\",\"gridcolor\":\"white\",\"linecolor\":\"white\",\"showbackground\":true,\"ticks\":\"\",\"zerolinecolor\":\"white\",\"gridwidth\":2},\"zaxis\":{\"backgroundcolor\":\"#E5ECF6\",\"gridcolor\":\"white\",\"linecolor\":\"white\",\"showbackground\":true,\"ticks\":\"\",\"zerolinecolor\":\"white\",\"gridwidth\":2}},\"shapedefaults\":{\"line\":{\"color\":\"#2a3f5f\"}},\"annotationdefaults\":{\"arrowcolor\":\"#2a3f5f\",\"arrowhead\":0,\"arrowwidth\":1},\"geo\":{\"bgcolor\":\"white\",\"landcolor\":\"#E5ECF6\",\"subunitcolor\":\"white\",\"showland\":true,\"showlakes\":true,\"lakecolor\":\"white\"},\"title\":{\"x\":0.05},\"mapbox\":{\"style\":\"light\"}}},\"title\":{\"font\":{\"size\":18},\"text\":\"Frequency of programming langage Skills in Job Descriptions\"},\"showlegend\":true},                        {\"responsive\": true}                    ).then(function(){\n",
       "                            \n",
       "var gd = document.getElementById('1cb9c4bd-0925-4479-bb38-9e2de11d3109');\n",
       "var x = new MutationObserver(function (mutations, observer) {{\n",
       "        var display = window.getComputedStyle(gd).display;\n",
       "        if (!display || display === 'none') {{\n",
       "            console.log([gd, 'removed!']);\n",
       "            Plotly.purge(gd);\n",
       "            observer.disconnect();\n",
       "        }}\n",
       "}});\n",
       "\n",
       "// Listen for the removal of the full notebook cells\n",
       "var notebookContainer = gd.closest('#notebook-container');\n",
       "if (notebookContainer) {{\n",
       "    x.observe(notebookContainer, {childList: true});\n",
       "}}\n",
       "\n",
       "// Listen for the clearing of the current output cell\n",
       "var outputEl = gd.closest('.output');\n",
       "if (outputEl) {{\n",
       "    x.observe(outputEl, {childList: true});\n",
       "}}\n",
       "\n",
       "                        })                };                });            </script>        </div>"
      ]
     },
     "metadata": {},
     "output_type": "display_data"
    }
   ],
   "source": [
    "python_count = corpus.count('python')\n",
    "r_count = corpus.count('r')\n",
    "sas_count = corpus.count('sas')\n",
    "c_count = corpus.count('c')\n",
    "\n",
    "labels = ['Python', 'R','sas','c']\n",
    "values = [python_count, r_count,sas_count,c_count]\n",
    "\n",
    "fig = go.Figure(data=[go.Pie(labels=labels, values=values, textinfo='value')])\n",
    "\n",
    "fig.update_layout(\n",
    "    title={\n",
    "        'text': \"Frequency of programming langage Skills in Job Descriptions\",\n",
    "        'font': {'size': 18}\n",
    "    },\n",
    "    showlegend=True\n",
    ")\n",
    "\n",
    "fig.update_traces(texttemplate='%{value:.0f}', textposition='outside')\n",
    "\n",
    "fig.show()"
   ]
  },
  {
   "cell_type": "markdown",
   "id": "f2605e11",
   "metadata": {},
   "source": [
    "Python is more often used in the descriptions than R (sorry for that mister Hain). Sas isnt that attractif to learn even C is more often mentioned (I guess to create intern apps)."
   ]
  },
  {
   "cell_type": "code",
   "execution_count": 40,
   "id": "be45bfdd",
   "metadata": {},
   "outputs": [
    {
     "data": {
      "application/vnd.plotly.v1+json": {
       "config": {
        "plotlyServerURL": "https://plot.ly"
       },
       "data": [
        {
         "labels": [
          "SQL",
          "NoSQL"
         ],
         "textinfo": "value",
         "textposition": "outside",
         "texttemplate": "%{value:.0f}",
         "type": "pie",
         "values": [
          453,
          131
         ]
        }
       ],
       "layout": {
        "showlegend": true,
        "template": {
         "data": {
          "bar": [
           {
            "error_x": {
             "color": "#2a3f5f"
            },
            "error_y": {
             "color": "#2a3f5f"
            },
            "marker": {
             "line": {
              "color": "#E5ECF6",
              "width": 0.5
             },
             "pattern": {
              "fillmode": "overlay",
              "size": 10,
              "solidity": 0.2
             }
            },
            "type": "bar"
           }
          ],
          "barpolar": [
           {
            "marker": {
             "line": {
              "color": "#E5ECF6",
              "width": 0.5
             },
             "pattern": {
              "fillmode": "overlay",
              "size": 10,
              "solidity": 0.2
             }
            },
            "type": "barpolar"
           }
          ],
          "carpet": [
           {
            "aaxis": {
             "endlinecolor": "#2a3f5f",
             "gridcolor": "white",
             "linecolor": "white",
             "minorgridcolor": "white",
             "startlinecolor": "#2a3f5f"
            },
            "baxis": {
             "endlinecolor": "#2a3f5f",
             "gridcolor": "white",
             "linecolor": "white",
             "minorgridcolor": "white",
             "startlinecolor": "#2a3f5f"
            },
            "type": "carpet"
           }
          ],
          "choropleth": [
           {
            "colorbar": {
             "outlinewidth": 0,
             "ticks": ""
            },
            "type": "choropleth"
           }
          ],
          "contour": [
           {
            "colorbar": {
             "outlinewidth": 0,
             "ticks": ""
            },
            "colorscale": [
             [
              0,
              "#0d0887"
             ],
             [
              0.1111111111111111,
              "#46039f"
             ],
             [
              0.2222222222222222,
              "#7201a8"
             ],
             [
              0.3333333333333333,
              "#9c179e"
             ],
             [
              0.4444444444444444,
              "#bd3786"
             ],
             [
              0.5555555555555556,
              "#d8576b"
             ],
             [
              0.6666666666666666,
              "#ed7953"
             ],
             [
              0.7777777777777778,
              "#fb9f3a"
             ],
             [
              0.8888888888888888,
              "#fdca26"
             ],
             [
              1,
              "#f0f921"
             ]
            ],
            "type": "contour"
           }
          ],
          "contourcarpet": [
           {
            "colorbar": {
             "outlinewidth": 0,
             "ticks": ""
            },
            "type": "contourcarpet"
           }
          ],
          "heatmap": [
           {
            "colorbar": {
             "outlinewidth": 0,
             "ticks": ""
            },
            "colorscale": [
             [
              0,
              "#0d0887"
             ],
             [
              0.1111111111111111,
              "#46039f"
             ],
             [
              0.2222222222222222,
              "#7201a8"
             ],
             [
              0.3333333333333333,
              "#9c179e"
             ],
             [
              0.4444444444444444,
              "#bd3786"
             ],
             [
              0.5555555555555556,
              "#d8576b"
             ],
             [
              0.6666666666666666,
              "#ed7953"
             ],
             [
              0.7777777777777778,
              "#fb9f3a"
             ],
             [
              0.8888888888888888,
              "#fdca26"
             ],
             [
              1,
              "#f0f921"
             ]
            ],
            "type": "heatmap"
           }
          ],
          "heatmapgl": [
           {
            "colorbar": {
             "outlinewidth": 0,
             "ticks": ""
            },
            "colorscale": [
             [
              0,
              "#0d0887"
             ],
             [
              0.1111111111111111,
              "#46039f"
             ],
             [
              0.2222222222222222,
              "#7201a8"
             ],
             [
              0.3333333333333333,
              "#9c179e"
             ],
             [
              0.4444444444444444,
              "#bd3786"
             ],
             [
              0.5555555555555556,
              "#d8576b"
             ],
             [
              0.6666666666666666,
              "#ed7953"
             ],
             [
              0.7777777777777778,
              "#fb9f3a"
             ],
             [
              0.8888888888888888,
              "#fdca26"
             ],
             [
              1,
              "#f0f921"
             ]
            ],
            "type": "heatmapgl"
           }
          ],
          "histogram": [
           {
            "marker": {
             "pattern": {
              "fillmode": "overlay",
              "size": 10,
              "solidity": 0.2
             }
            },
            "type": "histogram"
           }
          ],
          "histogram2d": [
           {
            "colorbar": {
             "outlinewidth": 0,
             "ticks": ""
            },
            "colorscale": [
             [
              0,
              "#0d0887"
             ],
             [
              0.1111111111111111,
              "#46039f"
             ],
             [
              0.2222222222222222,
              "#7201a8"
             ],
             [
              0.3333333333333333,
              "#9c179e"
             ],
             [
              0.4444444444444444,
              "#bd3786"
             ],
             [
              0.5555555555555556,
              "#d8576b"
             ],
             [
              0.6666666666666666,
              "#ed7953"
             ],
             [
              0.7777777777777778,
              "#fb9f3a"
             ],
             [
              0.8888888888888888,
              "#fdca26"
             ],
             [
              1,
              "#f0f921"
             ]
            ],
            "type": "histogram2d"
           }
          ],
          "histogram2dcontour": [
           {
            "colorbar": {
             "outlinewidth": 0,
             "ticks": ""
            },
            "colorscale": [
             [
              0,
              "#0d0887"
             ],
             [
              0.1111111111111111,
              "#46039f"
             ],
             [
              0.2222222222222222,
              "#7201a8"
             ],
             [
              0.3333333333333333,
              "#9c179e"
             ],
             [
              0.4444444444444444,
              "#bd3786"
             ],
             [
              0.5555555555555556,
              "#d8576b"
             ],
             [
              0.6666666666666666,
              "#ed7953"
             ],
             [
              0.7777777777777778,
              "#fb9f3a"
             ],
             [
              0.8888888888888888,
              "#fdca26"
             ],
             [
              1,
              "#f0f921"
             ]
            ],
            "type": "histogram2dcontour"
           }
          ],
          "mesh3d": [
           {
            "colorbar": {
             "outlinewidth": 0,
             "ticks": ""
            },
            "type": "mesh3d"
           }
          ],
          "parcoords": [
           {
            "line": {
             "colorbar": {
              "outlinewidth": 0,
              "ticks": ""
             }
            },
            "type": "parcoords"
           }
          ],
          "pie": [
           {
            "automargin": true,
            "type": "pie"
           }
          ],
          "scatter": [
           {
            "fillpattern": {
             "fillmode": "overlay",
             "size": 10,
             "solidity": 0.2
            },
            "type": "scatter"
           }
          ],
          "scatter3d": [
           {
            "line": {
             "colorbar": {
              "outlinewidth": 0,
              "ticks": ""
             }
            },
            "marker": {
             "colorbar": {
              "outlinewidth": 0,
              "ticks": ""
             }
            },
            "type": "scatter3d"
           }
          ],
          "scattercarpet": [
           {
            "marker": {
             "colorbar": {
              "outlinewidth": 0,
              "ticks": ""
             }
            },
            "type": "scattercarpet"
           }
          ],
          "scattergeo": [
           {
            "marker": {
             "colorbar": {
              "outlinewidth": 0,
              "ticks": ""
             }
            },
            "type": "scattergeo"
           }
          ],
          "scattergl": [
           {
            "marker": {
             "colorbar": {
              "outlinewidth": 0,
              "ticks": ""
             }
            },
            "type": "scattergl"
           }
          ],
          "scattermapbox": [
           {
            "marker": {
             "colorbar": {
              "outlinewidth": 0,
              "ticks": ""
             }
            },
            "type": "scattermapbox"
           }
          ],
          "scatterpolar": [
           {
            "marker": {
             "colorbar": {
              "outlinewidth": 0,
              "ticks": ""
             }
            },
            "type": "scatterpolar"
           }
          ],
          "scatterpolargl": [
           {
            "marker": {
             "colorbar": {
              "outlinewidth": 0,
              "ticks": ""
             }
            },
            "type": "scatterpolargl"
           }
          ],
          "scatterternary": [
           {
            "marker": {
             "colorbar": {
              "outlinewidth": 0,
              "ticks": ""
             }
            },
            "type": "scatterternary"
           }
          ],
          "surface": [
           {
            "colorbar": {
             "outlinewidth": 0,
             "ticks": ""
            },
            "colorscale": [
             [
              0,
              "#0d0887"
             ],
             [
              0.1111111111111111,
              "#46039f"
             ],
             [
              0.2222222222222222,
              "#7201a8"
             ],
             [
              0.3333333333333333,
              "#9c179e"
             ],
             [
              0.4444444444444444,
              "#bd3786"
             ],
             [
              0.5555555555555556,
              "#d8576b"
             ],
             [
              0.6666666666666666,
              "#ed7953"
             ],
             [
              0.7777777777777778,
              "#fb9f3a"
             ],
             [
              0.8888888888888888,
              "#fdca26"
             ],
             [
              1,
              "#f0f921"
             ]
            ],
            "type": "surface"
           }
          ],
          "table": [
           {
            "cells": {
             "fill": {
              "color": "#EBF0F8"
             },
             "line": {
              "color": "white"
             }
            },
            "header": {
             "fill": {
              "color": "#C8D4E3"
             },
             "line": {
              "color": "white"
             }
            },
            "type": "table"
           }
          ]
         },
         "layout": {
          "annotationdefaults": {
           "arrowcolor": "#2a3f5f",
           "arrowhead": 0,
           "arrowwidth": 1
          },
          "autotypenumbers": "strict",
          "coloraxis": {
           "colorbar": {
            "outlinewidth": 0,
            "ticks": ""
           }
          },
          "colorscale": {
           "diverging": [
            [
             0,
             "#8e0152"
            ],
            [
             0.1,
             "#c51b7d"
            ],
            [
             0.2,
             "#de77ae"
            ],
            [
             0.3,
             "#f1b6da"
            ],
            [
             0.4,
             "#fde0ef"
            ],
            [
             0.5,
             "#f7f7f7"
            ],
            [
             0.6,
             "#e6f5d0"
            ],
            [
             0.7,
             "#b8e186"
            ],
            [
             0.8,
             "#7fbc41"
            ],
            [
             0.9,
             "#4d9221"
            ],
            [
             1,
             "#276419"
            ]
           ],
           "sequential": [
            [
             0,
             "#0d0887"
            ],
            [
             0.1111111111111111,
             "#46039f"
            ],
            [
             0.2222222222222222,
             "#7201a8"
            ],
            [
             0.3333333333333333,
             "#9c179e"
            ],
            [
             0.4444444444444444,
             "#bd3786"
            ],
            [
             0.5555555555555556,
             "#d8576b"
            ],
            [
             0.6666666666666666,
             "#ed7953"
            ],
            [
             0.7777777777777778,
             "#fb9f3a"
            ],
            [
             0.8888888888888888,
             "#fdca26"
            ],
            [
             1,
             "#f0f921"
            ]
           ],
           "sequentialminus": [
            [
             0,
             "#0d0887"
            ],
            [
             0.1111111111111111,
             "#46039f"
            ],
            [
             0.2222222222222222,
             "#7201a8"
            ],
            [
             0.3333333333333333,
             "#9c179e"
            ],
            [
             0.4444444444444444,
             "#bd3786"
            ],
            [
             0.5555555555555556,
             "#d8576b"
            ],
            [
             0.6666666666666666,
             "#ed7953"
            ],
            [
             0.7777777777777778,
             "#fb9f3a"
            ],
            [
             0.8888888888888888,
             "#fdca26"
            ],
            [
             1,
             "#f0f921"
            ]
           ]
          },
          "colorway": [
           "#636efa",
           "#EF553B",
           "#00cc96",
           "#ab63fa",
           "#FFA15A",
           "#19d3f3",
           "#FF6692",
           "#B6E880",
           "#FF97FF",
           "#FECB52"
          ],
          "font": {
           "color": "#2a3f5f"
          },
          "geo": {
           "bgcolor": "white",
           "lakecolor": "white",
           "landcolor": "#E5ECF6",
           "showlakes": true,
           "showland": true,
           "subunitcolor": "white"
          },
          "hoverlabel": {
           "align": "left"
          },
          "hovermode": "closest",
          "mapbox": {
           "style": "light"
          },
          "paper_bgcolor": "white",
          "plot_bgcolor": "#E5ECF6",
          "polar": {
           "angularaxis": {
            "gridcolor": "white",
            "linecolor": "white",
            "ticks": ""
           },
           "bgcolor": "#E5ECF6",
           "radialaxis": {
            "gridcolor": "white",
            "linecolor": "white",
            "ticks": ""
           }
          },
          "scene": {
           "xaxis": {
            "backgroundcolor": "#E5ECF6",
            "gridcolor": "white",
            "gridwidth": 2,
            "linecolor": "white",
            "showbackground": true,
            "ticks": "",
            "zerolinecolor": "white"
           },
           "yaxis": {
            "backgroundcolor": "#E5ECF6",
            "gridcolor": "white",
            "gridwidth": 2,
            "linecolor": "white",
            "showbackground": true,
            "ticks": "",
            "zerolinecolor": "white"
           },
           "zaxis": {
            "backgroundcolor": "#E5ECF6",
            "gridcolor": "white",
            "gridwidth": 2,
            "linecolor": "white",
            "showbackground": true,
            "ticks": "",
            "zerolinecolor": "white"
           }
          },
          "shapedefaults": {
           "line": {
            "color": "#2a3f5f"
           }
          },
          "ternary": {
           "aaxis": {
            "gridcolor": "white",
            "linecolor": "white",
            "ticks": ""
           },
           "baxis": {
            "gridcolor": "white",
            "linecolor": "white",
            "ticks": ""
           },
           "bgcolor": "#E5ECF6",
           "caxis": {
            "gridcolor": "white",
            "linecolor": "white",
            "ticks": ""
           }
          },
          "title": {
           "x": 0.05
          },
          "xaxis": {
           "automargin": true,
           "gridcolor": "white",
           "linecolor": "white",
           "ticks": "",
           "title": {
            "standoff": 15
           },
           "zerolinecolor": "white",
           "zerolinewidth": 2
          },
          "yaxis": {
           "automargin": true,
           "gridcolor": "white",
           "linecolor": "white",
           "ticks": "",
           "title": {
            "standoff": 15
           },
           "zerolinecolor": "white",
           "zerolinewidth": 2
          }
         }
        },
        "title": {
         "font": {
          "size": 18
         },
         "text": "Frequency of SQL and NoSQL Skills in Job Descriptions"
        }
       }
      },
      "text/html": [
       "<div>                            <div id=\"ce7fcb1b-2570-4b8a-9d81-125e39af198b\" class=\"plotly-graph-div\" style=\"height:525px; width:100%;\"></div>            <script type=\"text/javascript\">                require([\"plotly\"], function(Plotly) {                    window.PLOTLYENV=window.PLOTLYENV || {};                                    if (document.getElementById(\"ce7fcb1b-2570-4b8a-9d81-125e39af198b\")) {                    Plotly.newPlot(                        \"ce7fcb1b-2570-4b8a-9d81-125e39af198b\",                        [{\"labels\":[\"SQL\",\"NoSQL\"],\"textinfo\":\"value\",\"values\":[453,131],\"type\":\"pie\",\"textposition\":\"outside\",\"texttemplate\":\"%{value:.0f}\"}],                        {\"template\":{\"data\":{\"histogram2dcontour\":[{\"type\":\"histogram2dcontour\",\"colorbar\":{\"outlinewidth\":0,\"ticks\":\"\"},\"colorscale\":[[0.0,\"#0d0887\"],[0.1111111111111111,\"#46039f\"],[0.2222222222222222,\"#7201a8\"],[0.3333333333333333,\"#9c179e\"],[0.4444444444444444,\"#bd3786\"],[0.5555555555555556,\"#d8576b\"],[0.6666666666666666,\"#ed7953\"],[0.7777777777777778,\"#fb9f3a\"],[0.8888888888888888,\"#fdca26\"],[1.0,\"#f0f921\"]]}],\"choropleth\":[{\"type\":\"choropleth\",\"colorbar\":{\"outlinewidth\":0,\"ticks\":\"\"}}],\"histogram2d\":[{\"type\":\"histogram2d\",\"colorbar\":{\"outlinewidth\":0,\"ticks\":\"\"},\"colorscale\":[[0.0,\"#0d0887\"],[0.1111111111111111,\"#46039f\"],[0.2222222222222222,\"#7201a8\"],[0.3333333333333333,\"#9c179e\"],[0.4444444444444444,\"#bd3786\"],[0.5555555555555556,\"#d8576b\"],[0.6666666666666666,\"#ed7953\"],[0.7777777777777778,\"#fb9f3a\"],[0.8888888888888888,\"#fdca26\"],[1.0,\"#f0f921\"]]}],\"heatmap\":[{\"type\":\"heatmap\",\"colorbar\":{\"outlinewidth\":0,\"ticks\":\"\"},\"colorscale\":[[0.0,\"#0d0887\"],[0.1111111111111111,\"#46039f\"],[0.2222222222222222,\"#7201a8\"],[0.3333333333333333,\"#9c179e\"],[0.4444444444444444,\"#bd3786\"],[0.5555555555555556,\"#d8576b\"],[0.6666666666666666,\"#ed7953\"],[0.7777777777777778,\"#fb9f3a\"],[0.8888888888888888,\"#fdca26\"],[1.0,\"#f0f921\"]]}],\"heatmapgl\":[{\"type\":\"heatmapgl\",\"colorbar\":{\"outlinewidth\":0,\"ticks\":\"\"},\"colorscale\":[[0.0,\"#0d0887\"],[0.1111111111111111,\"#46039f\"],[0.2222222222222222,\"#7201a8\"],[0.3333333333333333,\"#9c179e\"],[0.4444444444444444,\"#bd3786\"],[0.5555555555555556,\"#d8576b\"],[0.6666666666666666,\"#ed7953\"],[0.7777777777777778,\"#fb9f3a\"],[0.8888888888888888,\"#fdca26\"],[1.0,\"#f0f921\"]]}],\"contourcarpet\":[{\"type\":\"contourcarpet\",\"colorbar\":{\"outlinewidth\":0,\"ticks\":\"\"}}],\"contour\":[{\"type\":\"contour\",\"colorbar\":{\"outlinewidth\":0,\"ticks\":\"\"},\"colorscale\":[[0.0,\"#0d0887\"],[0.1111111111111111,\"#46039f\"],[0.2222222222222222,\"#7201a8\"],[0.3333333333333333,\"#9c179e\"],[0.4444444444444444,\"#bd3786\"],[0.5555555555555556,\"#d8576b\"],[0.6666666666666666,\"#ed7953\"],[0.7777777777777778,\"#fb9f3a\"],[0.8888888888888888,\"#fdca26\"],[1.0,\"#f0f921\"]]}],\"surface\":[{\"type\":\"surface\",\"colorbar\":{\"outlinewidth\":0,\"ticks\":\"\"},\"colorscale\":[[0.0,\"#0d0887\"],[0.1111111111111111,\"#46039f\"],[0.2222222222222222,\"#7201a8\"],[0.3333333333333333,\"#9c179e\"],[0.4444444444444444,\"#bd3786\"],[0.5555555555555556,\"#d8576b\"],[0.6666666666666666,\"#ed7953\"],[0.7777777777777778,\"#fb9f3a\"],[0.8888888888888888,\"#fdca26\"],[1.0,\"#f0f921\"]]}],\"mesh3d\":[{\"type\":\"mesh3d\",\"colorbar\":{\"outlinewidth\":0,\"ticks\":\"\"}}],\"scatter\":[{\"fillpattern\":{\"fillmode\":\"overlay\",\"size\":10,\"solidity\":0.2},\"type\":\"scatter\"}],\"parcoords\":[{\"type\":\"parcoords\",\"line\":{\"colorbar\":{\"outlinewidth\":0,\"ticks\":\"\"}}}],\"scatterpolargl\":[{\"type\":\"scatterpolargl\",\"marker\":{\"colorbar\":{\"outlinewidth\":0,\"ticks\":\"\"}}}],\"bar\":[{\"error_x\":{\"color\":\"#2a3f5f\"},\"error_y\":{\"color\":\"#2a3f5f\"},\"marker\":{\"line\":{\"color\":\"#E5ECF6\",\"width\":0.5},\"pattern\":{\"fillmode\":\"overlay\",\"size\":10,\"solidity\":0.2}},\"type\":\"bar\"}],\"scattergeo\":[{\"type\":\"scattergeo\",\"marker\":{\"colorbar\":{\"outlinewidth\":0,\"ticks\":\"\"}}}],\"scatterpolar\":[{\"type\":\"scatterpolar\",\"marker\":{\"colorbar\":{\"outlinewidth\":0,\"ticks\":\"\"}}}],\"histogram\":[{\"marker\":{\"pattern\":{\"fillmode\":\"overlay\",\"size\":10,\"solidity\":0.2}},\"type\":\"histogram\"}],\"scattergl\":[{\"type\":\"scattergl\",\"marker\":{\"colorbar\":{\"outlinewidth\":0,\"ticks\":\"\"}}}],\"scatter3d\":[{\"type\":\"scatter3d\",\"line\":{\"colorbar\":{\"outlinewidth\":0,\"ticks\":\"\"}},\"marker\":{\"colorbar\":{\"outlinewidth\":0,\"ticks\":\"\"}}}],\"scattermapbox\":[{\"type\":\"scattermapbox\",\"marker\":{\"colorbar\":{\"outlinewidth\":0,\"ticks\":\"\"}}}],\"scatterternary\":[{\"type\":\"scatterternary\",\"marker\":{\"colorbar\":{\"outlinewidth\":0,\"ticks\":\"\"}}}],\"scattercarpet\":[{\"type\":\"scattercarpet\",\"marker\":{\"colorbar\":{\"outlinewidth\":0,\"ticks\":\"\"}}}],\"carpet\":[{\"aaxis\":{\"endlinecolor\":\"#2a3f5f\",\"gridcolor\":\"white\",\"linecolor\":\"white\",\"minorgridcolor\":\"white\",\"startlinecolor\":\"#2a3f5f\"},\"baxis\":{\"endlinecolor\":\"#2a3f5f\",\"gridcolor\":\"white\",\"linecolor\":\"white\",\"minorgridcolor\":\"white\",\"startlinecolor\":\"#2a3f5f\"},\"type\":\"carpet\"}],\"table\":[{\"cells\":{\"fill\":{\"color\":\"#EBF0F8\"},\"line\":{\"color\":\"white\"}},\"header\":{\"fill\":{\"color\":\"#C8D4E3\"},\"line\":{\"color\":\"white\"}},\"type\":\"table\"}],\"barpolar\":[{\"marker\":{\"line\":{\"color\":\"#E5ECF6\",\"width\":0.5},\"pattern\":{\"fillmode\":\"overlay\",\"size\":10,\"solidity\":0.2}},\"type\":\"barpolar\"}],\"pie\":[{\"automargin\":true,\"type\":\"pie\"}]},\"layout\":{\"autotypenumbers\":\"strict\",\"colorway\":[\"#636efa\",\"#EF553B\",\"#00cc96\",\"#ab63fa\",\"#FFA15A\",\"#19d3f3\",\"#FF6692\",\"#B6E880\",\"#FF97FF\",\"#FECB52\"],\"font\":{\"color\":\"#2a3f5f\"},\"hovermode\":\"closest\",\"hoverlabel\":{\"align\":\"left\"},\"paper_bgcolor\":\"white\",\"plot_bgcolor\":\"#E5ECF6\",\"polar\":{\"bgcolor\":\"#E5ECF6\",\"angularaxis\":{\"gridcolor\":\"white\",\"linecolor\":\"white\",\"ticks\":\"\"},\"radialaxis\":{\"gridcolor\":\"white\",\"linecolor\":\"white\",\"ticks\":\"\"}},\"ternary\":{\"bgcolor\":\"#E5ECF6\",\"aaxis\":{\"gridcolor\":\"white\",\"linecolor\":\"white\",\"ticks\":\"\"},\"baxis\":{\"gridcolor\":\"white\",\"linecolor\":\"white\",\"ticks\":\"\"},\"caxis\":{\"gridcolor\":\"white\",\"linecolor\":\"white\",\"ticks\":\"\"}},\"coloraxis\":{\"colorbar\":{\"outlinewidth\":0,\"ticks\":\"\"}},\"colorscale\":{\"sequential\":[[0.0,\"#0d0887\"],[0.1111111111111111,\"#46039f\"],[0.2222222222222222,\"#7201a8\"],[0.3333333333333333,\"#9c179e\"],[0.4444444444444444,\"#bd3786\"],[0.5555555555555556,\"#d8576b\"],[0.6666666666666666,\"#ed7953\"],[0.7777777777777778,\"#fb9f3a\"],[0.8888888888888888,\"#fdca26\"],[1.0,\"#f0f921\"]],\"sequentialminus\":[[0.0,\"#0d0887\"],[0.1111111111111111,\"#46039f\"],[0.2222222222222222,\"#7201a8\"],[0.3333333333333333,\"#9c179e\"],[0.4444444444444444,\"#bd3786\"],[0.5555555555555556,\"#d8576b\"],[0.6666666666666666,\"#ed7953\"],[0.7777777777777778,\"#fb9f3a\"],[0.8888888888888888,\"#fdca26\"],[1.0,\"#f0f921\"]],\"diverging\":[[0,\"#8e0152\"],[0.1,\"#c51b7d\"],[0.2,\"#de77ae\"],[0.3,\"#f1b6da\"],[0.4,\"#fde0ef\"],[0.5,\"#f7f7f7\"],[0.6,\"#e6f5d0\"],[0.7,\"#b8e186\"],[0.8,\"#7fbc41\"],[0.9,\"#4d9221\"],[1,\"#276419\"]]},\"xaxis\":{\"gridcolor\":\"white\",\"linecolor\":\"white\",\"ticks\":\"\",\"title\":{\"standoff\":15},\"zerolinecolor\":\"white\",\"automargin\":true,\"zerolinewidth\":2},\"yaxis\":{\"gridcolor\":\"white\",\"linecolor\":\"white\",\"ticks\":\"\",\"title\":{\"standoff\":15},\"zerolinecolor\":\"white\",\"automargin\":true,\"zerolinewidth\":2},\"scene\":{\"xaxis\":{\"backgroundcolor\":\"#E5ECF6\",\"gridcolor\":\"white\",\"linecolor\":\"white\",\"showbackground\":true,\"ticks\":\"\",\"zerolinecolor\":\"white\",\"gridwidth\":2},\"yaxis\":{\"backgroundcolor\":\"#E5ECF6\",\"gridcolor\":\"white\",\"linecolor\":\"white\",\"showbackground\":true,\"ticks\":\"\",\"zerolinecolor\":\"white\",\"gridwidth\":2},\"zaxis\":{\"backgroundcolor\":\"#E5ECF6\",\"gridcolor\":\"white\",\"linecolor\":\"white\",\"showbackground\":true,\"ticks\":\"\",\"zerolinecolor\":\"white\",\"gridwidth\":2}},\"shapedefaults\":{\"line\":{\"color\":\"#2a3f5f\"}},\"annotationdefaults\":{\"arrowcolor\":\"#2a3f5f\",\"arrowhead\":0,\"arrowwidth\":1},\"geo\":{\"bgcolor\":\"white\",\"landcolor\":\"#E5ECF6\",\"subunitcolor\":\"white\",\"showland\":true,\"showlakes\":true,\"lakecolor\":\"white\"},\"title\":{\"x\":0.05},\"mapbox\":{\"style\":\"light\"}}},\"title\":{\"font\":{\"size\":18},\"text\":\"Frequency of SQL and NoSQL Skills in Job Descriptions\"},\"showlegend\":true},                        {\"responsive\": true}                    ).then(function(){\n",
       "                            \n",
       "var gd = document.getElementById('ce7fcb1b-2570-4b8a-9d81-125e39af198b');\n",
       "var x = new MutationObserver(function (mutations, observer) {{\n",
       "        var display = window.getComputedStyle(gd).display;\n",
       "        if (!display || display === 'none') {{\n",
       "            console.log([gd, 'removed!']);\n",
       "            Plotly.purge(gd);\n",
       "            observer.disconnect();\n",
       "        }}\n",
       "}});\n",
       "\n",
       "// Listen for the removal of the full notebook cells\n",
       "var notebookContainer = gd.closest('#notebook-container');\n",
       "if (notebookContainer) {{\n",
       "    x.observe(notebookContainer, {childList: true});\n",
       "}}\n",
       "\n",
       "// Listen for the clearing of the current output cell\n",
       "var outputEl = gd.closest('.output');\n",
       "if (outputEl) {{\n",
       "    x.observe(outputEl, {childList: true});\n",
       "}}\n",
       "\n",
       "                        })                };                });            </script>        </div>"
      ]
     },
     "metadata": {},
     "output_type": "display_data"
    }
   ],
   "source": [
    "sql_count = corpus.count('sql')\n",
    "nosql_count = corpus.count('nosql') + corpus.count('mongodb') + corpus.count('redis') + corpus.count('cassandra')\n",
    "\n",
    "labels = ['SQL', 'NoSQL']\n",
    "values = [sql_count, nosql_count]\n",
    "\n",
    "fig = go.Figure(data=[go.Pie(labels=labels, values=values, textinfo='value')])\n",
    "\n",
    "fig.update_layout(\n",
    "    title={\n",
    "        'text': \"Frequency of SQL and NoSQL Skills in Job Descriptions\",\n",
    "        'font': {'size': 18}\n",
    "    },\n",
    "    showlegend=True\n",
    ")\n",
    "\n",
    "fig.update_traces(texttemplate='%{value:.0f}', textposition='outside')\n",
    "\n",
    "fig.show()"
   ]
  },
  {
   "cell_type": "markdown",
   "id": "e1a1b8a1",
   "metadata": {},
   "source": [
    "This kind of result was obvious, SQL is way more used than NoSQL especially in Firms. Anyway i want to learn to manipulate NoSQL so let's see which of the main NoSQL services that i know will be the more asked one."
   ]
  },
  {
   "cell_type": "code",
   "execution_count": 57,
   "id": "debc3f88",
   "metadata": {},
   "outputs": [
    {
     "data": {
      "application/vnd.plotly.v1+json": {
       "config": {
        "plotlyServerURL": "https://plot.ly"
       },
       "data": [
        {
         "labels": [
          "MongoDB",
          "Redis",
          "Cassandra"
         ],
         "textinfo": "value",
         "textposition": "outside",
         "texttemplate": "%{value:.0f}",
         "type": "pie",
         "values": [
          22,
          7,
          24
         ]
        }
       ],
       "layout": {
        "showlegend": true,
        "template": {
         "data": {
          "bar": [
           {
            "error_x": {
             "color": "#2a3f5f"
            },
            "error_y": {
             "color": "#2a3f5f"
            },
            "marker": {
             "line": {
              "color": "#E5ECF6",
              "width": 0.5
             },
             "pattern": {
              "fillmode": "overlay",
              "size": 10,
              "solidity": 0.2
             }
            },
            "type": "bar"
           }
          ],
          "barpolar": [
           {
            "marker": {
             "line": {
              "color": "#E5ECF6",
              "width": 0.5
             },
             "pattern": {
              "fillmode": "overlay",
              "size": 10,
              "solidity": 0.2
             }
            },
            "type": "barpolar"
           }
          ],
          "carpet": [
           {
            "aaxis": {
             "endlinecolor": "#2a3f5f",
             "gridcolor": "white",
             "linecolor": "white",
             "minorgridcolor": "white",
             "startlinecolor": "#2a3f5f"
            },
            "baxis": {
             "endlinecolor": "#2a3f5f",
             "gridcolor": "white",
             "linecolor": "white",
             "minorgridcolor": "white",
             "startlinecolor": "#2a3f5f"
            },
            "type": "carpet"
           }
          ],
          "choropleth": [
           {
            "colorbar": {
             "outlinewidth": 0,
             "ticks": ""
            },
            "type": "choropleth"
           }
          ],
          "contour": [
           {
            "colorbar": {
             "outlinewidth": 0,
             "ticks": ""
            },
            "colorscale": [
             [
              0,
              "#0d0887"
             ],
             [
              0.1111111111111111,
              "#46039f"
             ],
             [
              0.2222222222222222,
              "#7201a8"
             ],
             [
              0.3333333333333333,
              "#9c179e"
             ],
             [
              0.4444444444444444,
              "#bd3786"
             ],
             [
              0.5555555555555556,
              "#d8576b"
             ],
             [
              0.6666666666666666,
              "#ed7953"
             ],
             [
              0.7777777777777778,
              "#fb9f3a"
             ],
             [
              0.8888888888888888,
              "#fdca26"
             ],
             [
              1,
              "#f0f921"
             ]
            ],
            "type": "contour"
           }
          ],
          "contourcarpet": [
           {
            "colorbar": {
             "outlinewidth": 0,
             "ticks": ""
            },
            "type": "contourcarpet"
           }
          ],
          "heatmap": [
           {
            "colorbar": {
             "outlinewidth": 0,
             "ticks": ""
            },
            "colorscale": [
             [
              0,
              "#0d0887"
             ],
             [
              0.1111111111111111,
              "#46039f"
             ],
             [
              0.2222222222222222,
              "#7201a8"
             ],
             [
              0.3333333333333333,
              "#9c179e"
             ],
             [
              0.4444444444444444,
              "#bd3786"
             ],
             [
              0.5555555555555556,
              "#d8576b"
             ],
             [
              0.6666666666666666,
              "#ed7953"
             ],
             [
              0.7777777777777778,
              "#fb9f3a"
             ],
             [
              0.8888888888888888,
              "#fdca26"
             ],
             [
              1,
              "#f0f921"
             ]
            ],
            "type": "heatmap"
           }
          ],
          "heatmapgl": [
           {
            "colorbar": {
             "outlinewidth": 0,
             "ticks": ""
            },
            "colorscale": [
             [
              0,
              "#0d0887"
             ],
             [
              0.1111111111111111,
              "#46039f"
             ],
             [
              0.2222222222222222,
              "#7201a8"
             ],
             [
              0.3333333333333333,
              "#9c179e"
             ],
             [
              0.4444444444444444,
              "#bd3786"
             ],
             [
              0.5555555555555556,
              "#d8576b"
             ],
             [
              0.6666666666666666,
              "#ed7953"
             ],
             [
              0.7777777777777778,
              "#fb9f3a"
             ],
             [
              0.8888888888888888,
              "#fdca26"
             ],
             [
              1,
              "#f0f921"
             ]
            ],
            "type": "heatmapgl"
           }
          ],
          "histogram": [
           {
            "marker": {
             "pattern": {
              "fillmode": "overlay",
              "size": 10,
              "solidity": 0.2
             }
            },
            "type": "histogram"
           }
          ],
          "histogram2d": [
           {
            "colorbar": {
             "outlinewidth": 0,
             "ticks": ""
            },
            "colorscale": [
             [
              0,
              "#0d0887"
             ],
             [
              0.1111111111111111,
              "#46039f"
             ],
             [
              0.2222222222222222,
              "#7201a8"
             ],
             [
              0.3333333333333333,
              "#9c179e"
             ],
             [
              0.4444444444444444,
              "#bd3786"
             ],
             [
              0.5555555555555556,
              "#d8576b"
             ],
             [
              0.6666666666666666,
              "#ed7953"
             ],
             [
              0.7777777777777778,
              "#fb9f3a"
             ],
             [
              0.8888888888888888,
              "#fdca26"
             ],
             [
              1,
              "#f0f921"
             ]
            ],
            "type": "histogram2d"
           }
          ],
          "histogram2dcontour": [
           {
            "colorbar": {
             "outlinewidth": 0,
             "ticks": ""
            },
            "colorscale": [
             [
              0,
              "#0d0887"
             ],
             [
              0.1111111111111111,
              "#46039f"
             ],
             [
              0.2222222222222222,
              "#7201a8"
             ],
             [
              0.3333333333333333,
              "#9c179e"
             ],
             [
              0.4444444444444444,
              "#bd3786"
             ],
             [
              0.5555555555555556,
              "#d8576b"
             ],
             [
              0.6666666666666666,
              "#ed7953"
             ],
             [
              0.7777777777777778,
              "#fb9f3a"
             ],
             [
              0.8888888888888888,
              "#fdca26"
             ],
             [
              1,
              "#f0f921"
             ]
            ],
            "type": "histogram2dcontour"
           }
          ],
          "mesh3d": [
           {
            "colorbar": {
             "outlinewidth": 0,
             "ticks": ""
            },
            "type": "mesh3d"
           }
          ],
          "parcoords": [
           {
            "line": {
             "colorbar": {
              "outlinewidth": 0,
              "ticks": ""
             }
            },
            "type": "parcoords"
           }
          ],
          "pie": [
           {
            "automargin": true,
            "type": "pie"
           }
          ],
          "scatter": [
           {
            "fillpattern": {
             "fillmode": "overlay",
             "size": 10,
             "solidity": 0.2
            },
            "type": "scatter"
           }
          ],
          "scatter3d": [
           {
            "line": {
             "colorbar": {
              "outlinewidth": 0,
              "ticks": ""
             }
            },
            "marker": {
             "colorbar": {
              "outlinewidth": 0,
              "ticks": ""
             }
            },
            "type": "scatter3d"
           }
          ],
          "scattercarpet": [
           {
            "marker": {
             "colorbar": {
              "outlinewidth": 0,
              "ticks": ""
             }
            },
            "type": "scattercarpet"
           }
          ],
          "scattergeo": [
           {
            "marker": {
             "colorbar": {
              "outlinewidth": 0,
              "ticks": ""
             }
            },
            "type": "scattergeo"
           }
          ],
          "scattergl": [
           {
            "marker": {
             "colorbar": {
              "outlinewidth": 0,
              "ticks": ""
             }
            },
            "type": "scattergl"
           }
          ],
          "scattermapbox": [
           {
            "marker": {
             "colorbar": {
              "outlinewidth": 0,
              "ticks": ""
             }
            },
            "type": "scattermapbox"
           }
          ],
          "scatterpolar": [
           {
            "marker": {
             "colorbar": {
              "outlinewidth": 0,
              "ticks": ""
             }
            },
            "type": "scatterpolar"
           }
          ],
          "scatterpolargl": [
           {
            "marker": {
             "colorbar": {
              "outlinewidth": 0,
              "ticks": ""
             }
            },
            "type": "scatterpolargl"
           }
          ],
          "scatterternary": [
           {
            "marker": {
             "colorbar": {
              "outlinewidth": 0,
              "ticks": ""
             }
            },
            "type": "scatterternary"
           }
          ],
          "surface": [
           {
            "colorbar": {
             "outlinewidth": 0,
             "ticks": ""
            },
            "colorscale": [
             [
              0,
              "#0d0887"
             ],
             [
              0.1111111111111111,
              "#46039f"
             ],
             [
              0.2222222222222222,
              "#7201a8"
             ],
             [
              0.3333333333333333,
              "#9c179e"
             ],
             [
              0.4444444444444444,
              "#bd3786"
             ],
             [
              0.5555555555555556,
              "#d8576b"
             ],
             [
              0.6666666666666666,
              "#ed7953"
             ],
             [
              0.7777777777777778,
              "#fb9f3a"
             ],
             [
              0.8888888888888888,
              "#fdca26"
             ],
             [
              1,
              "#f0f921"
             ]
            ],
            "type": "surface"
           }
          ],
          "table": [
           {
            "cells": {
             "fill": {
              "color": "#EBF0F8"
             },
             "line": {
              "color": "white"
             }
            },
            "header": {
             "fill": {
              "color": "#C8D4E3"
             },
             "line": {
              "color": "white"
             }
            },
            "type": "table"
           }
          ]
         },
         "layout": {
          "annotationdefaults": {
           "arrowcolor": "#2a3f5f",
           "arrowhead": 0,
           "arrowwidth": 1
          },
          "autotypenumbers": "strict",
          "coloraxis": {
           "colorbar": {
            "outlinewidth": 0,
            "ticks": ""
           }
          },
          "colorscale": {
           "diverging": [
            [
             0,
             "#8e0152"
            ],
            [
             0.1,
             "#c51b7d"
            ],
            [
             0.2,
             "#de77ae"
            ],
            [
             0.3,
             "#f1b6da"
            ],
            [
             0.4,
             "#fde0ef"
            ],
            [
             0.5,
             "#f7f7f7"
            ],
            [
             0.6,
             "#e6f5d0"
            ],
            [
             0.7,
             "#b8e186"
            ],
            [
             0.8,
             "#7fbc41"
            ],
            [
             0.9,
             "#4d9221"
            ],
            [
             1,
             "#276419"
            ]
           ],
           "sequential": [
            [
             0,
             "#0d0887"
            ],
            [
             0.1111111111111111,
             "#46039f"
            ],
            [
             0.2222222222222222,
             "#7201a8"
            ],
            [
             0.3333333333333333,
             "#9c179e"
            ],
            [
             0.4444444444444444,
             "#bd3786"
            ],
            [
             0.5555555555555556,
             "#d8576b"
            ],
            [
             0.6666666666666666,
             "#ed7953"
            ],
            [
             0.7777777777777778,
             "#fb9f3a"
            ],
            [
             0.8888888888888888,
             "#fdca26"
            ],
            [
             1,
             "#f0f921"
            ]
           ],
           "sequentialminus": [
            [
             0,
             "#0d0887"
            ],
            [
             0.1111111111111111,
             "#46039f"
            ],
            [
             0.2222222222222222,
             "#7201a8"
            ],
            [
             0.3333333333333333,
             "#9c179e"
            ],
            [
             0.4444444444444444,
             "#bd3786"
            ],
            [
             0.5555555555555556,
             "#d8576b"
            ],
            [
             0.6666666666666666,
             "#ed7953"
            ],
            [
             0.7777777777777778,
             "#fb9f3a"
            ],
            [
             0.8888888888888888,
             "#fdca26"
            ],
            [
             1,
             "#f0f921"
            ]
           ]
          },
          "colorway": [
           "#636efa",
           "#EF553B",
           "#00cc96",
           "#ab63fa",
           "#FFA15A",
           "#19d3f3",
           "#FF6692",
           "#B6E880",
           "#FF97FF",
           "#FECB52"
          ],
          "font": {
           "color": "#2a3f5f"
          },
          "geo": {
           "bgcolor": "white",
           "lakecolor": "white",
           "landcolor": "#E5ECF6",
           "showlakes": true,
           "showland": true,
           "subunitcolor": "white"
          },
          "hoverlabel": {
           "align": "left"
          },
          "hovermode": "closest",
          "mapbox": {
           "style": "light"
          },
          "paper_bgcolor": "white",
          "plot_bgcolor": "#E5ECF6",
          "polar": {
           "angularaxis": {
            "gridcolor": "white",
            "linecolor": "white",
            "ticks": ""
           },
           "bgcolor": "#E5ECF6",
           "radialaxis": {
            "gridcolor": "white",
            "linecolor": "white",
            "ticks": ""
           }
          },
          "scene": {
           "xaxis": {
            "backgroundcolor": "#E5ECF6",
            "gridcolor": "white",
            "gridwidth": 2,
            "linecolor": "white",
            "showbackground": true,
            "ticks": "",
            "zerolinecolor": "white"
           },
           "yaxis": {
            "backgroundcolor": "#E5ECF6",
            "gridcolor": "white",
            "gridwidth": 2,
            "linecolor": "white",
            "showbackground": true,
            "ticks": "",
            "zerolinecolor": "white"
           },
           "zaxis": {
            "backgroundcolor": "#E5ECF6",
            "gridcolor": "white",
            "gridwidth": 2,
            "linecolor": "white",
            "showbackground": true,
            "ticks": "",
            "zerolinecolor": "white"
           }
          },
          "shapedefaults": {
           "line": {
            "color": "#2a3f5f"
           }
          },
          "ternary": {
           "aaxis": {
            "gridcolor": "white",
            "linecolor": "white",
            "ticks": ""
           },
           "baxis": {
            "gridcolor": "white",
            "linecolor": "white",
            "ticks": ""
           },
           "bgcolor": "#E5ECF6",
           "caxis": {
            "gridcolor": "white",
            "linecolor": "white",
            "ticks": ""
           }
          },
          "title": {
           "x": 0.05
          },
          "xaxis": {
           "automargin": true,
           "gridcolor": "white",
           "linecolor": "white",
           "ticks": "",
           "title": {
            "standoff": 15
           },
           "zerolinecolor": "white",
           "zerolinewidth": 2
          },
          "yaxis": {
           "automargin": true,
           "gridcolor": "white",
           "linecolor": "white",
           "ticks": "",
           "title": {
            "standoff": 15
           },
           "zerolinecolor": "white",
           "zerolinewidth": 2
          }
         }
        },
        "title": {
         "font": {
          "size": 18
         },
         "text": "Frequency of Database management langage Skills in Job Descriptions"
        }
       }
      },
      "text/html": [
       "<div>                            <div id=\"dd42a5f7-dbf8-4f13-bc8f-3f5a9a646243\" class=\"plotly-graph-div\" style=\"height:525px; width:100%;\"></div>            <script type=\"text/javascript\">                require([\"plotly\"], function(Plotly) {                    window.PLOTLYENV=window.PLOTLYENV || {};                                    if (document.getElementById(\"dd42a5f7-dbf8-4f13-bc8f-3f5a9a646243\")) {                    Plotly.newPlot(                        \"dd42a5f7-dbf8-4f13-bc8f-3f5a9a646243\",                        [{\"labels\":[\"MongoDB\",\"Redis\",\"Cassandra\"],\"textinfo\":\"value\",\"values\":[22,7,24],\"type\":\"pie\",\"textposition\":\"outside\",\"texttemplate\":\"%{value:.0f}\"}],                        {\"template\":{\"data\":{\"histogram2dcontour\":[{\"type\":\"histogram2dcontour\",\"colorbar\":{\"outlinewidth\":0,\"ticks\":\"\"},\"colorscale\":[[0.0,\"#0d0887\"],[0.1111111111111111,\"#46039f\"],[0.2222222222222222,\"#7201a8\"],[0.3333333333333333,\"#9c179e\"],[0.4444444444444444,\"#bd3786\"],[0.5555555555555556,\"#d8576b\"],[0.6666666666666666,\"#ed7953\"],[0.7777777777777778,\"#fb9f3a\"],[0.8888888888888888,\"#fdca26\"],[1.0,\"#f0f921\"]]}],\"choropleth\":[{\"type\":\"choropleth\",\"colorbar\":{\"outlinewidth\":0,\"ticks\":\"\"}}],\"histogram2d\":[{\"type\":\"histogram2d\",\"colorbar\":{\"outlinewidth\":0,\"ticks\":\"\"},\"colorscale\":[[0.0,\"#0d0887\"],[0.1111111111111111,\"#46039f\"],[0.2222222222222222,\"#7201a8\"],[0.3333333333333333,\"#9c179e\"],[0.4444444444444444,\"#bd3786\"],[0.5555555555555556,\"#d8576b\"],[0.6666666666666666,\"#ed7953\"],[0.7777777777777778,\"#fb9f3a\"],[0.8888888888888888,\"#fdca26\"],[1.0,\"#f0f921\"]]}],\"heatmap\":[{\"type\":\"heatmap\",\"colorbar\":{\"outlinewidth\":0,\"ticks\":\"\"},\"colorscale\":[[0.0,\"#0d0887\"],[0.1111111111111111,\"#46039f\"],[0.2222222222222222,\"#7201a8\"],[0.3333333333333333,\"#9c179e\"],[0.4444444444444444,\"#bd3786\"],[0.5555555555555556,\"#d8576b\"],[0.6666666666666666,\"#ed7953\"],[0.7777777777777778,\"#fb9f3a\"],[0.8888888888888888,\"#fdca26\"],[1.0,\"#f0f921\"]]}],\"heatmapgl\":[{\"type\":\"heatmapgl\",\"colorbar\":{\"outlinewidth\":0,\"ticks\":\"\"},\"colorscale\":[[0.0,\"#0d0887\"],[0.1111111111111111,\"#46039f\"],[0.2222222222222222,\"#7201a8\"],[0.3333333333333333,\"#9c179e\"],[0.4444444444444444,\"#bd3786\"],[0.5555555555555556,\"#d8576b\"],[0.6666666666666666,\"#ed7953\"],[0.7777777777777778,\"#fb9f3a\"],[0.8888888888888888,\"#fdca26\"],[1.0,\"#f0f921\"]]}],\"contourcarpet\":[{\"type\":\"contourcarpet\",\"colorbar\":{\"outlinewidth\":0,\"ticks\":\"\"}}],\"contour\":[{\"type\":\"contour\",\"colorbar\":{\"outlinewidth\":0,\"ticks\":\"\"},\"colorscale\":[[0.0,\"#0d0887\"],[0.1111111111111111,\"#46039f\"],[0.2222222222222222,\"#7201a8\"],[0.3333333333333333,\"#9c179e\"],[0.4444444444444444,\"#bd3786\"],[0.5555555555555556,\"#d8576b\"],[0.6666666666666666,\"#ed7953\"],[0.7777777777777778,\"#fb9f3a\"],[0.8888888888888888,\"#fdca26\"],[1.0,\"#f0f921\"]]}],\"surface\":[{\"type\":\"surface\",\"colorbar\":{\"outlinewidth\":0,\"ticks\":\"\"},\"colorscale\":[[0.0,\"#0d0887\"],[0.1111111111111111,\"#46039f\"],[0.2222222222222222,\"#7201a8\"],[0.3333333333333333,\"#9c179e\"],[0.4444444444444444,\"#bd3786\"],[0.5555555555555556,\"#d8576b\"],[0.6666666666666666,\"#ed7953\"],[0.7777777777777778,\"#fb9f3a\"],[0.8888888888888888,\"#fdca26\"],[1.0,\"#f0f921\"]]}],\"mesh3d\":[{\"type\":\"mesh3d\",\"colorbar\":{\"outlinewidth\":0,\"ticks\":\"\"}}],\"scatter\":[{\"fillpattern\":{\"fillmode\":\"overlay\",\"size\":10,\"solidity\":0.2},\"type\":\"scatter\"}],\"parcoords\":[{\"type\":\"parcoords\",\"line\":{\"colorbar\":{\"outlinewidth\":0,\"ticks\":\"\"}}}],\"scatterpolargl\":[{\"type\":\"scatterpolargl\",\"marker\":{\"colorbar\":{\"outlinewidth\":0,\"ticks\":\"\"}}}],\"bar\":[{\"error_x\":{\"color\":\"#2a3f5f\"},\"error_y\":{\"color\":\"#2a3f5f\"},\"marker\":{\"line\":{\"color\":\"#E5ECF6\",\"width\":0.5},\"pattern\":{\"fillmode\":\"overlay\",\"size\":10,\"solidity\":0.2}},\"type\":\"bar\"}],\"scattergeo\":[{\"type\":\"scattergeo\",\"marker\":{\"colorbar\":{\"outlinewidth\":0,\"ticks\":\"\"}}}],\"scatterpolar\":[{\"type\":\"scatterpolar\",\"marker\":{\"colorbar\":{\"outlinewidth\":0,\"ticks\":\"\"}}}],\"histogram\":[{\"marker\":{\"pattern\":{\"fillmode\":\"overlay\",\"size\":10,\"solidity\":0.2}},\"type\":\"histogram\"}],\"scattergl\":[{\"type\":\"scattergl\",\"marker\":{\"colorbar\":{\"outlinewidth\":0,\"ticks\":\"\"}}}],\"scatter3d\":[{\"type\":\"scatter3d\",\"line\":{\"colorbar\":{\"outlinewidth\":0,\"ticks\":\"\"}},\"marker\":{\"colorbar\":{\"outlinewidth\":0,\"ticks\":\"\"}}}],\"scattermapbox\":[{\"type\":\"scattermapbox\",\"marker\":{\"colorbar\":{\"outlinewidth\":0,\"ticks\":\"\"}}}],\"scatterternary\":[{\"type\":\"scatterternary\",\"marker\":{\"colorbar\":{\"outlinewidth\":0,\"ticks\":\"\"}}}],\"scattercarpet\":[{\"type\":\"scattercarpet\",\"marker\":{\"colorbar\":{\"outlinewidth\":0,\"ticks\":\"\"}}}],\"carpet\":[{\"aaxis\":{\"endlinecolor\":\"#2a3f5f\",\"gridcolor\":\"white\",\"linecolor\":\"white\",\"minorgridcolor\":\"white\",\"startlinecolor\":\"#2a3f5f\"},\"baxis\":{\"endlinecolor\":\"#2a3f5f\",\"gridcolor\":\"white\",\"linecolor\":\"white\",\"minorgridcolor\":\"white\",\"startlinecolor\":\"#2a3f5f\"},\"type\":\"carpet\"}],\"table\":[{\"cells\":{\"fill\":{\"color\":\"#EBF0F8\"},\"line\":{\"color\":\"white\"}},\"header\":{\"fill\":{\"color\":\"#C8D4E3\"},\"line\":{\"color\":\"white\"}},\"type\":\"table\"}],\"barpolar\":[{\"marker\":{\"line\":{\"color\":\"#E5ECF6\",\"width\":0.5},\"pattern\":{\"fillmode\":\"overlay\",\"size\":10,\"solidity\":0.2}},\"type\":\"barpolar\"}],\"pie\":[{\"automargin\":true,\"type\":\"pie\"}]},\"layout\":{\"autotypenumbers\":\"strict\",\"colorway\":[\"#636efa\",\"#EF553B\",\"#00cc96\",\"#ab63fa\",\"#FFA15A\",\"#19d3f3\",\"#FF6692\",\"#B6E880\",\"#FF97FF\",\"#FECB52\"],\"font\":{\"color\":\"#2a3f5f\"},\"hovermode\":\"closest\",\"hoverlabel\":{\"align\":\"left\"},\"paper_bgcolor\":\"white\",\"plot_bgcolor\":\"#E5ECF6\",\"polar\":{\"bgcolor\":\"#E5ECF6\",\"angularaxis\":{\"gridcolor\":\"white\",\"linecolor\":\"white\",\"ticks\":\"\"},\"radialaxis\":{\"gridcolor\":\"white\",\"linecolor\":\"white\",\"ticks\":\"\"}},\"ternary\":{\"bgcolor\":\"#E5ECF6\",\"aaxis\":{\"gridcolor\":\"white\",\"linecolor\":\"white\",\"ticks\":\"\"},\"baxis\":{\"gridcolor\":\"white\",\"linecolor\":\"white\",\"ticks\":\"\"},\"caxis\":{\"gridcolor\":\"white\",\"linecolor\":\"white\",\"ticks\":\"\"}},\"coloraxis\":{\"colorbar\":{\"outlinewidth\":0,\"ticks\":\"\"}},\"colorscale\":{\"sequential\":[[0.0,\"#0d0887\"],[0.1111111111111111,\"#46039f\"],[0.2222222222222222,\"#7201a8\"],[0.3333333333333333,\"#9c179e\"],[0.4444444444444444,\"#bd3786\"],[0.5555555555555556,\"#d8576b\"],[0.6666666666666666,\"#ed7953\"],[0.7777777777777778,\"#fb9f3a\"],[0.8888888888888888,\"#fdca26\"],[1.0,\"#f0f921\"]],\"sequentialminus\":[[0.0,\"#0d0887\"],[0.1111111111111111,\"#46039f\"],[0.2222222222222222,\"#7201a8\"],[0.3333333333333333,\"#9c179e\"],[0.4444444444444444,\"#bd3786\"],[0.5555555555555556,\"#d8576b\"],[0.6666666666666666,\"#ed7953\"],[0.7777777777777778,\"#fb9f3a\"],[0.8888888888888888,\"#fdca26\"],[1.0,\"#f0f921\"]],\"diverging\":[[0,\"#8e0152\"],[0.1,\"#c51b7d\"],[0.2,\"#de77ae\"],[0.3,\"#f1b6da\"],[0.4,\"#fde0ef\"],[0.5,\"#f7f7f7\"],[0.6,\"#e6f5d0\"],[0.7,\"#b8e186\"],[0.8,\"#7fbc41\"],[0.9,\"#4d9221\"],[1,\"#276419\"]]},\"xaxis\":{\"gridcolor\":\"white\",\"linecolor\":\"white\",\"ticks\":\"\",\"title\":{\"standoff\":15},\"zerolinecolor\":\"white\",\"automargin\":true,\"zerolinewidth\":2},\"yaxis\":{\"gridcolor\":\"white\",\"linecolor\":\"white\",\"ticks\":\"\",\"title\":{\"standoff\":15},\"zerolinecolor\":\"white\",\"automargin\":true,\"zerolinewidth\":2},\"scene\":{\"xaxis\":{\"backgroundcolor\":\"#E5ECF6\",\"gridcolor\":\"white\",\"linecolor\":\"white\",\"showbackground\":true,\"ticks\":\"\",\"zerolinecolor\":\"white\",\"gridwidth\":2},\"yaxis\":{\"backgroundcolor\":\"#E5ECF6\",\"gridcolor\":\"white\",\"linecolor\":\"white\",\"showbackground\":true,\"ticks\":\"\",\"zerolinecolor\":\"white\",\"gridwidth\":2},\"zaxis\":{\"backgroundcolor\":\"#E5ECF6\",\"gridcolor\":\"white\",\"linecolor\":\"white\",\"showbackground\":true,\"ticks\":\"\",\"zerolinecolor\":\"white\",\"gridwidth\":2}},\"shapedefaults\":{\"line\":{\"color\":\"#2a3f5f\"}},\"annotationdefaults\":{\"arrowcolor\":\"#2a3f5f\",\"arrowhead\":0,\"arrowwidth\":1},\"geo\":{\"bgcolor\":\"white\",\"landcolor\":\"#E5ECF6\",\"subunitcolor\":\"white\",\"showland\":true,\"showlakes\":true,\"lakecolor\":\"white\"},\"title\":{\"x\":0.05},\"mapbox\":{\"style\":\"light\"}}},\"title\":{\"font\":{\"size\":18},\"text\":\"Frequency of Database management langage Skills in Job Descriptions\"},\"showlegend\":true},                        {\"responsive\": true}                    ).then(function(){\n",
       "                            \n",
       "var gd = document.getElementById('dd42a5f7-dbf8-4f13-bc8f-3f5a9a646243');\n",
       "var x = new MutationObserver(function (mutations, observer) {{\n",
       "        var display = window.getComputedStyle(gd).display;\n",
       "        if (!display || display === 'none') {{\n",
       "            console.log([gd, 'removed!']);\n",
       "            Plotly.purge(gd);\n",
       "            observer.disconnect();\n",
       "        }}\n",
       "}});\n",
       "\n",
       "// Listen for the removal of the full notebook cells\n",
       "var notebookContainer = gd.closest('#notebook-container');\n",
       "if (notebookContainer) {{\n",
       "    x.observe(notebookContainer, {childList: true});\n",
       "}}\n",
       "\n",
       "// Listen for the clearing of the current output cell\n",
       "var outputEl = gd.closest('.output');\n",
       "if (outputEl) {{\n",
       "    x.observe(outputEl, {childList: true});\n",
       "}}\n",
       "\n",
       "                        })                };                });            </script>        </div>"
      ]
     },
     "metadata": {},
     "output_type": "display_data"
    }
   ],
   "source": [
    "mondo_count = corpus.count(\"mongodb\") \n",
    "redis_count = corpus.count(\"redis\") \n",
    "cassandra_count = corpus.count(\"cassandra\")\n",
    "\n",
    "labels = ['MongoDB', 'Redis','Cassandra']\n",
    "values = [mondo_count, redis_count,cassandra_count]\n",
    "\n",
    "fig = go.Figure(data=[go.Pie(labels=labels, values=values, textinfo='value')])\n",
    "\n",
    "fig.update_layout(\n",
    "    title={\n",
    "        'text': \"Frequency of Database management langage Skills in Job Descriptions\",\n",
    "        'font': {'size': 18}\n",
    "    },\n",
    "    showlegend=True\n",
    ")\n",
    "\n",
    "fig.update_traces(texttemplate='%{value:.0f}', textposition='outside')\n",
    "\n",
    "fig.show()"
   ]
  },
  {
   "cell_type": "markdown",
   "id": "bfef1408",
   "metadata": {},
   "source": [
    "I took the 3 main NoSQL database management program that i know. I already used MongoDB so why not try out Cassandra. We see that they are rarly mentioned only 20-25 times, so i dont even know if it is worth it for me to learn to manipulate NoSQL."
   ]
  },
  {
   "cell_type": "markdown",
   "id": "78801681",
   "metadata": {},
   "source": [
    "# Ajouter une comparaison avec les cloud et dire cb de fois cloud a ete mentionné\n",
    "\n",
    "# ajouter une comparaison des skills\n",
    "\n",
    "# Conclure brievement"
   ]
  },
  {
   "cell_type": "code",
   "execution_count": null,
   "id": "2a9a6f17",
   "metadata": {},
   "outputs": [],
   "source": []
  },
  {
   "cell_type": "code",
   "execution_count": null,
   "id": "361d194e",
   "metadata": {},
   "outputs": [],
   "source": []
  },
  {
   "cell_type": "code",
   "execution_count": null,
   "id": "05c71e9e",
   "metadata": {},
   "outputs": [],
   "source": []
  },
  {
   "cell_type": "code",
   "execution_count": null,
   "id": "5e2dd025",
   "metadata": {},
   "outputs": [],
   "source": []
  },
  {
   "cell_type": "markdown",
   "id": "38feb75f",
   "metadata": {},
   "source": [
    "# 2) Clustering de descriptions d'emploi "
   ]
  },
  {
   "cell_type": "code",
   "execution_count": 65,
   "id": "4b6f34d9",
   "metadata": {},
   "outputs": [
    {
     "data": {
      "text/plain": [
       "$79K-$131K (Glassdoor est.)     32\n",
       "$99K-$132K (Glassdoor est.)     32\n",
       "$75K-$131K (Glassdoor est.)     32\n",
       "$137K-$171K (Glassdoor est.)    30\n",
       "$90K-$109K (Glassdoor est.)     30\n",
       "$56K-$97K (Glassdoor est.)      22\n",
       "$79K-$106K (Glassdoor est.)     22\n",
       "$90K-$124K (Glassdoor est.)     22\n",
       "$110K-$163K (Glassdoor est.)    21\n",
       "$92K-$155K (Glassdoor est.)     21\n",
       "$138K-$158K (Glassdoor est.)    21\n",
       "$128K-$201K (Glassdoor est.)    21\n",
       "$212K-$331K (Glassdoor est.)    21\n",
       "$95K-$119K (Glassdoor est.)     21\n",
       "$69K-$116K (Glassdoor est.)     21\n",
       "$124K-$198K (Glassdoor est.)    21\n",
       "$112K-$116K (Glassdoor est.)    21\n",
       "$122K-$146K (Glassdoor est.)    21\n",
       "$91K-$150K (Glassdoor est.)     21\n",
       "$101K-$165K (Glassdoor est.)    21\n",
       "$79K-$147K (Glassdoor est.)     20\n",
       "$31K-$56K (Glassdoor est.)      20\n",
       "$145K-$225K(Employer est.)      20\n",
       "$141K-$225K (Glassdoor est.)    20\n",
       "$66K-$112K (Glassdoor est.)     20\n",
       "$80K-$132K (Glassdoor est.)     20\n",
       "$87K-$141K (Glassdoor est.)     20\n",
       "$105K-$167K (Glassdoor est.)    20\n",
       "$79K-$133K (Glassdoor est.)     19\n",
       "$71K-$123K (Glassdoor est.)     19\n",
       "Name: Salary Estimate, dtype: int64"
      ]
     },
     "execution_count": 65,
     "metadata": {},
     "output_type": "execute_result"
    }
   ],
   "source": [
    "data[\"Salary Estimate\"].value_counts()"
   ]
  },
  {
   "cell_type": "markdown",
   "id": "d6c4115d",
   "metadata": {},
   "source": [
    "### First I will clean the column with the salary "
   ]
  },
  {
   "cell_type": "code",
   "execution_count": 66,
   "id": "ef53fe92",
   "metadata": {
    "scrolled": true
   },
   "outputs": [
    {
     "name": "stderr",
     "output_type": "stream",
     "text": [
      "/var/folders/30/z0zpp57d7xx3_p2n7w7r0vrw0000gn/T/ipykernel_8872/3971490404.py:1: FutureWarning:\n",
      "\n",
      "The default value of regex will change from True to False in a future version.\n",
      "\n"
     ]
    }
   ],
   "source": [
    "data[\"Salary Estimate\"] = data[\"Salary Estimate\"].str.replace(\"(Glassdoor est.)\", \"\")"
   ]
  },
  {
   "cell_type": "code",
   "execution_count": 67,
   "id": "a0b8b311",
   "metadata": {},
   "outputs": [
    {
     "data": {
      "text/plain": [
       "$79K-$131K ()                 32\n",
       "$99K-$132K ()                 32\n",
       "$75K-$131K ()                 32\n",
       "$137K-$171K ()                30\n",
       "$90K-$109K ()                 30\n",
       "$56K-$97K ()                  22\n",
       "$79K-$106K ()                 22\n",
       "$90K-$124K ()                 22\n",
       "$110K-$163K ()                21\n",
       "$92K-$155K ()                 21\n",
       "$138K-$158K ()                21\n",
       "$128K-$201K ()                21\n",
       "$212K-$331K ()                21\n",
       "$95K-$119K ()                 21\n",
       "$69K-$116K ()                 21\n",
       "$124K-$198K ()                21\n",
       "$112K-$116K ()                21\n",
       "$122K-$146K ()                21\n",
       "$91K-$150K ()                 21\n",
       "$101K-$165K ()                21\n",
       "$79K-$147K ()                 20\n",
       "$31K-$56K ()                  20\n",
       "$145K-$225K(Employer est.)    20\n",
       "$141K-$225K ()                20\n",
       "$66K-$112K ()                 20\n",
       "$80K-$132K ()                 20\n",
       "$87K-$141K ()                 20\n",
       "$105K-$167K ()                20\n",
       "$79K-$133K ()                 19\n",
       "$71K-$123K ()                 19\n",
       "Name: Salary Estimate, dtype: int64"
      ]
     },
     "execution_count": 67,
     "metadata": {},
     "output_type": "execute_result"
    }
   ],
   "source": [
    "data[\"Salary Estimate\"].value_counts()"
   ]
  },
  {
   "cell_type": "code",
   "execution_count": 68,
   "id": "221e160a",
   "metadata": {
    "scrolled": true
   },
   "outputs": [
    {
     "name": "stderr",
     "output_type": "stream",
     "text": [
      "/var/folders/30/z0zpp57d7xx3_p2n7w7r0vrw0000gn/T/ipykernel_8872/4093557520.py:1: FutureWarning:\n",
      "\n",
      "The default value of regex will change from True to False in a future version.\n",
      "\n"
     ]
    }
   ],
   "source": [
    "data[\"Salary Estimate\"] = data[\"Salary Estimate\"].str.replace(\"(Employer est.)\", \"\")\n",
    "data[\"Salary Estimate\"] = data[\"Salary Estimate\"].str.replace(\"$\",\"\")\n",
    "data[\"Salary Estimate\"] = data[\"Salary Estimate\"].str.replace(\"K\",\"\")\n",
    "data[\"Salary Estimate\"] = data[\"Salary Estimate\"].str.replace(\"\\(\\)\",\"\")"
   ]
  },
  {
   "cell_type": "code",
   "execution_count": 71,
   "id": "1421d39a",
   "metadata": {},
   "outputs": [
    {
     "data": {
      "text/plain": [
       "79-131      32\n",
       "99-132      32\n",
       "75-131      32\n",
       "137-171     30\n",
       "90-109      30\n",
       "56-97       22\n",
       "79-106      22\n",
       "90-124      22\n",
       "110-163     21\n",
       "92-155      21\n",
       "138-158     21\n",
       "128-201     21\n",
       "212-331     21\n",
       "95-119      21\n",
       "69-116      21\n",
       "124-198     21\n",
       "112-116     21\n",
       "122-146     21\n",
       "91-150      21\n",
       "101-165     21\n",
       "79-147      20\n",
       "31-56       20\n",
       "145-225     20\n",
       "141-225     20\n",
       "66-112      20\n",
       "80-132      20\n",
       "87-141      20\n",
       "105-167     20\n",
       "79-133      19\n",
       "71-123      19\n",
       "Name: Salary Estimate, dtype: int64"
      ]
     },
     "execution_count": 71,
     "metadata": {},
     "output_type": "execute_result"
    }
   ],
   "source": [
    "data[\"Salary Estimate\"].value_counts()"
   ]
  },
  {
   "cell_type": "markdown",
   "id": "f46a9bd4",
   "metadata": {},
   "source": [
    "### I will create an monthly average salary now (just so we can imagine how much this represent in real life)"
   ]
  },
  {
   "cell_type": "code",
   "execution_count": 73,
   "id": "ca8c86d9",
   "metadata": {},
   "outputs": [],
   "source": [
    "data[\"Min_Salary\"] = data[\"Salary Estimate\"].str.split(\"-\").str[0]\n",
    "data[\"Max_Salary\"] = data[\"Salary Estimate\"].str.split(\"-\").str[1]"
   ]
  },
  {
   "cell_type": "code",
   "execution_count": 74,
   "id": "aa406894",
   "metadata": {},
   "outputs": [
    {
     "data": {
      "text/plain": [
       "index               int64\n",
       "Salary Estimate    object\n",
       "Job Description    object\n",
       "Company Name       object\n",
       "Location           object\n",
       "Min_Salary         object\n",
       "Max_Salary         object\n",
       "dtype: object"
      ]
     },
     "execution_count": 74,
     "metadata": {},
     "output_type": "execute_result"
    }
   ],
   "source": [
    "data.dtypes"
   ]
  },
  {
   "cell_type": "code",
   "execution_count": 76,
   "id": "ca49f214",
   "metadata": {},
   "outputs": [],
   "source": [
    "data[\"Min_Salary\"]= data[\"Min_Salary\"].astype(int)\n",
    "data[\"Max_Salary\"]= data[\"Max_Salary\"].astype(int)"
   ]
  },
  {
   "cell_type": "code",
   "execution_count": 77,
   "id": "88450952",
   "metadata": {},
   "outputs": [],
   "source": [
    "data[\"AVG_Salary\"]= (data[\"Min_Salary\"]+data[\"Max_Salary\"])/2\n",
    "data[\"AVG_Salary\"].astype(int)\n",
    "data[\"AVG_Salary\"] = data[\"AVG_Salary\"]*1000\n",
    "data[\"AVG_Salary_mensuel\"] = data[\"AVG_Salary\"]/12"
   ]
  },
  {
   "cell_type": "code",
   "execution_count": 78,
   "id": "29f50162",
   "metadata": {},
   "outputs": [
    {
     "data": {
      "text/plain": [
       "7708.333333     43\n",
       "8916.666667     43\n",
       "9500.000000     41\n",
       "8833.333333     39\n",
       "8583.333333     32\n",
       "8750.000000     32\n",
       "9625.000000     32\n",
       "12833.333333    30\n",
       "8291.666667     30\n",
       "6375.000000     22\n",
       "13416.666667    21\n",
       "11375.000000    21\n",
       "11166.666667    21\n",
       "10041.666667    21\n",
       "13708.333333    21\n",
       "12333.333333    21\n",
       "22625.000000    21\n",
       "10291.666667    21\n",
       "11083.333333    21\n",
       "7416.666667     20\n",
       "9416.666667     20\n",
       "3625.000000     20\n",
       "15416.666667    20\n",
       "15250.000000    20\n",
       "11333.333333    20\n",
       "8083.333333     19\n",
       "Name: AVG_Salary_mensuel, dtype: int64"
      ]
     },
     "execution_count": 78,
     "metadata": {},
     "output_type": "execute_result"
    }
   ],
   "source": [
    "data[\"AVG_Salary_mensuel\"].value_counts()"
   ]
  },
  {
   "cell_type": "code",
   "execution_count": 79,
   "id": "4ea1f7ae",
   "metadata": {
    "scrolled": true
   },
   "outputs": [],
   "source": [
    "data = data.drop(labels=[\"Max_Salary\",\"Min_Salary\",\"Salary Estimate\",\"AVG_Salary\"],axis=\"columns\")"
   ]
  },
  {
   "cell_type": "markdown",
   "id": "e157a27b",
   "metadata": {},
   "source": [
    "Now Salary is ready to use to try a clustering, but we will need to vectorize our description so we can also use them for the clustering"
   ]
  },
  {
   "cell_type": "markdown",
   "id": "61eaa477",
   "metadata": {},
   "source": [
    "On va tenter de faire un clustering en tenant compte du salaire mais égalenement de la localisation car le salaire peut être un indicateur important pour déterminer les différences entre les différents types d'offres d'emploi et les entreprises. Par exemple, il est possible que des offres d'emploi similaires proposent des salaires différents en fonction de l'entreprise ou de la localisation géographique."
   ]
  },
  {
   "cell_type": "markdown",
   "id": "bbd28a2a",
   "metadata": {},
   "source": [
    "## TF-IDF :"
   ]
  },
  {
   "cell_type": "code",
   "execution_count": 80,
   "id": "6728bf7b",
   "metadata": {},
   "outputs": [],
   "source": [
    "from sklearn.feature_extraction.text import TfidfVectorizer"
   ]
  },
  {
   "cell_type": "code",
   "execution_count": 81,
   "id": "42319bdc",
   "metadata": {},
   "outputs": [],
   "source": [
    "descriptions_numpy = data[\"Job Description\"].to_numpy()\n",
    "tfidf = TfidfVectorizer()\n",
    "tfidf_matrix = tfidf.fit_transform(descriptions_numpy)\n",
    "feature_names = tfidf.get_feature_names_out()\n",
    "df_tfidf = pd.DataFrame(tfidf_matrix.toarray(), columns=feature_names)"
   ]
  },
  {
   "cell_type": "code",
   "execution_count": 82,
   "id": "ac2145cb",
   "metadata": {},
   "outputs": [
    {
     "data": {
      "text/html": [
       "<div>\n",
       "<style scoped>\n",
       "    .dataframe tbody tr th:only-of-type {\n",
       "        vertical-align: middle;\n",
       "    }\n",
       "\n",
       "    .dataframe tbody tr th {\n",
       "        vertical-align: top;\n",
       "    }\n",
       "\n",
       "    .dataframe thead th {\n",
       "        text-align: right;\n",
       "    }\n",
       "</style>\n",
       "<table border=\"1\" class=\"dataframe\">\n",
       "  <thead>\n",
       "    <tr style=\"text-align: right;\">\n",
       "      <th></th>\n",
       "      <th>00</th>\n",
       "      <th>000</th>\n",
       "      <th>0089</th>\n",
       "      <th>00am</th>\n",
       "      <th>00pm</th>\n",
       "      <th>01</th>\n",
       "      <th>02</th>\n",
       "      <th>03</th>\n",
       "      <th>038</th>\n",
       "      <th>04</th>\n",
       "      <th>...</th>\n",
       "      <th>yrs</th>\n",
       "      <th>zendesk</th>\n",
       "      <th>zeplin</th>\n",
       "      <th>zeppelin</th>\n",
       "      <th>zip</th>\n",
       "      <th>zone</th>\n",
       "      <th>zones</th>\n",
       "      <th>zoo</th>\n",
       "      <th>zulily</th>\n",
       "      <th>zurich</th>\n",
       "    </tr>\n",
       "  </thead>\n",
       "  <tbody>\n",
       "    <tr>\n",
       "      <th>0</th>\n",
       "      <td>0.0</td>\n",
       "      <td>0.000000</td>\n",
       "      <td>0.0</td>\n",
       "      <td>0.0</td>\n",
       "      <td>0.0</td>\n",
       "      <td>0.0</td>\n",
       "      <td>0.0</td>\n",
       "      <td>0.0</td>\n",
       "      <td>0.0</td>\n",
       "      <td>0.0</td>\n",
       "      <td>...</td>\n",
       "      <td>0.0</td>\n",
       "      <td>0.0</td>\n",
       "      <td>0.0</td>\n",
       "      <td>0.0</td>\n",
       "      <td>0.0</td>\n",
       "      <td>0.0</td>\n",
       "      <td>0.0</td>\n",
       "      <td>0.0</td>\n",
       "      <td>0.0</td>\n",
       "      <td>0.0</td>\n",
       "    </tr>\n",
       "    <tr>\n",
       "      <th>1</th>\n",
       "      <td>0.0</td>\n",
       "      <td>0.000000</td>\n",
       "      <td>0.0</td>\n",
       "      <td>0.0</td>\n",
       "      <td>0.0</td>\n",
       "      <td>0.0</td>\n",
       "      <td>0.0</td>\n",
       "      <td>0.0</td>\n",
       "      <td>0.0</td>\n",
       "      <td>0.0</td>\n",
       "      <td>...</td>\n",
       "      <td>0.0</td>\n",
       "      <td>0.0</td>\n",
       "      <td>0.0</td>\n",
       "      <td>0.0</td>\n",
       "      <td>0.0</td>\n",
       "      <td>0.0</td>\n",
       "      <td>0.0</td>\n",
       "      <td>0.0</td>\n",
       "      <td>0.0</td>\n",
       "      <td>0.0</td>\n",
       "    </tr>\n",
       "    <tr>\n",
       "      <th>2</th>\n",
       "      <td>0.0</td>\n",
       "      <td>0.006183</td>\n",
       "      <td>0.0</td>\n",
       "      <td>0.0</td>\n",
       "      <td>0.0</td>\n",
       "      <td>0.0</td>\n",
       "      <td>0.0</td>\n",
       "      <td>0.0</td>\n",
       "      <td>0.0</td>\n",
       "      <td>0.0</td>\n",
       "      <td>...</td>\n",
       "      <td>0.0</td>\n",
       "      <td>0.0</td>\n",
       "      <td>0.0</td>\n",
       "      <td>0.0</td>\n",
       "      <td>0.0</td>\n",
       "      <td>0.0</td>\n",
       "      <td>0.0</td>\n",
       "      <td>0.0</td>\n",
       "      <td>0.0</td>\n",
       "      <td>0.0</td>\n",
       "    </tr>\n",
       "    <tr>\n",
       "      <th>3</th>\n",
       "      <td>0.0</td>\n",
       "      <td>0.000000</td>\n",
       "      <td>0.0</td>\n",
       "      <td>0.0</td>\n",
       "      <td>0.0</td>\n",
       "      <td>0.0</td>\n",
       "      <td>0.0</td>\n",
       "      <td>0.0</td>\n",
       "      <td>0.0</td>\n",
       "      <td>0.0</td>\n",
       "      <td>...</td>\n",
       "      <td>0.0</td>\n",
       "      <td>0.0</td>\n",
       "      <td>0.0</td>\n",
       "      <td>0.0</td>\n",
       "      <td>0.0</td>\n",
       "      <td>0.0</td>\n",
       "      <td>0.0</td>\n",
       "      <td>0.0</td>\n",
       "      <td>0.0</td>\n",
       "      <td>0.0</td>\n",
       "    </tr>\n",
       "    <tr>\n",
       "      <th>4</th>\n",
       "      <td>0.0</td>\n",
       "      <td>0.000000</td>\n",
       "      <td>0.0</td>\n",
       "      <td>0.0</td>\n",
       "      <td>0.0</td>\n",
       "      <td>0.0</td>\n",
       "      <td>0.0</td>\n",
       "      <td>0.0</td>\n",
       "      <td>0.0</td>\n",
       "      <td>0.0</td>\n",
       "      <td>...</td>\n",
       "      <td>0.0</td>\n",
       "      <td>0.0</td>\n",
       "      <td>0.0</td>\n",
       "      <td>0.0</td>\n",
       "      <td>0.0</td>\n",
       "      <td>0.0</td>\n",
       "      <td>0.0</td>\n",
       "      <td>0.0</td>\n",
       "      <td>0.0</td>\n",
       "      <td>0.0</td>\n",
       "    </tr>\n",
       "  </tbody>\n",
       "</table>\n",
       "<p>5 rows × 10689 columns</p>\n",
       "</div>"
      ],
      "text/plain": [
       "    00       000  0089  00am  00pm   01   02   03  038   04  ...  yrs  \\\n",
       "0  0.0  0.000000   0.0   0.0   0.0  0.0  0.0  0.0  0.0  0.0  ...  0.0   \n",
       "1  0.0  0.000000   0.0   0.0   0.0  0.0  0.0  0.0  0.0  0.0  ...  0.0   \n",
       "2  0.0  0.006183   0.0   0.0   0.0  0.0  0.0  0.0  0.0  0.0  ...  0.0   \n",
       "3  0.0  0.000000   0.0   0.0   0.0  0.0  0.0  0.0  0.0  0.0  ...  0.0   \n",
       "4  0.0  0.000000   0.0   0.0   0.0  0.0  0.0  0.0  0.0  0.0  ...  0.0   \n",
       "\n",
       "   zendesk  zeplin  zeppelin  zip  zone  zones  zoo  zulily  zurich  \n",
       "0      0.0     0.0       0.0  0.0   0.0    0.0  0.0     0.0     0.0  \n",
       "1      0.0     0.0       0.0  0.0   0.0    0.0  0.0     0.0     0.0  \n",
       "2      0.0     0.0       0.0  0.0   0.0    0.0  0.0     0.0     0.0  \n",
       "3      0.0     0.0       0.0  0.0   0.0    0.0  0.0     0.0     0.0  \n",
       "4      0.0     0.0       0.0  0.0   0.0    0.0  0.0     0.0     0.0  \n",
       "\n",
       "[5 rows x 10689 columns]"
      ]
     },
     "execution_count": 82,
     "metadata": {},
     "output_type": "execute_result"
    }
   ],
   "source": [
    "df_tfidf.head()\n",
    "#We got the matrix"
   ]
  },
  {
   "cell_type": "markdown",
   "id": "eaf82999",
   "metadata": {},
   "source": [
    " Une fois que vous avez converti les descriptions en représentations vectorielles, vous pouvez concaténer ces vecteurs avec d'autres colonnes numériques telles que le salaire et la localisation. Il est important de normaliser les données pour éviter que les caractéristiques à des échelles différentes n'affectent de manière inappropriée le résultat final.\n",
    "\n",
    "Ensuite, vous pouvez utiliser un algorithme de clustering sur les données concaténées pour regrouper les emplois similaires en clusters. Il existe plusieurs algorithmes de clustering, tels que K-Means, Agglomerative Clustering, et DBSCAN, pour n'en nommer que quelques-uns. Vous devrez sélectionner un algorithme en fonction de la structure de vos données et de vos objectifs de clustering.\n",
    "\n",
    "Il est important de noter que le clustering est souvent un processus itératif et qu'il peut être nécessaire d'ajuster les hyperparamètres de l'algorithme et/ou de prétraiter les données différemment pour obtenir des résultats satisfaisants. De plus, l'évaluation du nombre optimal de clusters peut être délicate et nécessite une analyse attentive de la structure des données et de la signification des clusters formés."
   ]
  },
  {
   "cell_type": "markdown",
   "id": "29a1119f",
   "metadata": {},
   "source": [
    "# Vous pouvez utiliser des algorithmes de classification pour attribuer des labels prédéterminés aux documents en fonction de leur contenu. Donc voir les mots empruntés en terme de connaissance chez les jobs les mieux payés ??"
   ]
  },
  {
   "cell_type": "code",
   "execution_count": null,
   "id": "5f2ee7a5",
   "metadata": {},
   "outputs": [],
   "source": []
  }
 ],
 "metadata": {
  "kernelspec": {
   "display_name": "Python 3 (ipykernel)",
   "language": "python",
   "name": "python3"
  },
  "language_info": {
   "codemirror_mode": {
    "name": "ipython",
    "version": 3
   },
   "file_extension": ".py",
   "mimetype": "text/x-python",
   "name": "python",
   "nbconvert_exporter": "python",
   "pygments_lexer": "ipython3",
   "version": "3.9.7"
  }
 },
 "nbformat": 4,
 "nbformat_minor": 5
}
